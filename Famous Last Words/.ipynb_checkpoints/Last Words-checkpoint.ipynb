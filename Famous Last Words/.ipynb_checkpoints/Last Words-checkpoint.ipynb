{
 "cells": [
  {
   "cell_type": "markdown",
   "metadata": {},
   "source": [
    "# Famous Last Words\n",
    "The dataset documents Texas death row inmates executed from 1976, when the Supreme Court reinstated the death penalty, to the present. It was extracted from the Texas Department of Criminal Justice website.\n",
    "\n",
    "Source: https://selectstarsql.com/frontmatter.html#dataset"
   ]
  },
  {
   "cell_type": "code",
   "execution_count": 19,
   "metadata": {},
   "outputs": [],
   "source": [
    "import pandas as pd\n",
    "import matplotlib\n",
    "import matplotlib.pyplot as plt\n",
    "import seaborn as sns\n",
    "import re\n",
    "from collections import Counter\n",
    "import numpy as np\n",
    "import nltk\n",
    "matplotlib.rcParams['pdf.fonttype'] = 42 #makes text editable in illustrator\n",
    "\n",
    "%matplotlib inline"
   ]
  },
  {
   "cell_type": "code",
   "execution_count": 20,
   "metadata": {},
   "outputs": [],
   "source": [
    "df = pd.read_csv(\"tx_deathrow_full.csv\")"
   ]
  },
  {
   "cell_type": "code",
   "execution_count": 21,
   "metadata": {},
   "outputs": [
    {
     "data": {
      "text/html": [
       "<div>\n",
       "<style scoped>\n",
       "    .dataframe tbody tr th:only-of-type {\n",
       "        vertical-align: middle;\n",
       "    }\n",
       "\n",
       "    .dataframe tbody tr th {\n",
       "        vertical-align: top;\n",
       "    }\n",
       "\n",
       "    .dataframe thead th {\n",
       "        text-align: right;\n",
       "    }\n",
       "</style>\n",
       "<table border=\"1\" class=\"dataframe\">\n",
       "  <thead>\n",
       "    <tr style=\"text-align: right;\">\n",
       "      <th></th>\n",
       "      <th>Execution</th>\n",
       "      <th>Date of Birth</th>\n",
       "      <th>Date of Offence</th>\n",
       "      <th>Highest Education Level</th>\n",
       "      <th>Last Name</th>\n",
       "      <th>First Name</th>\n",
       "      <th>TDCJ\n",
       "Number</th>\n",
       "      <th>Age at Execution</th>\n",
       "      <th>Date Received</th>\n",
       "      <th>Execution Date</th>\n",
       "      <th>Race</th>\n",
       "      <th>County</th>\n",
       "      <th>Eye Color</th>\n",
       "      <th>Weight</th>\n",
       "      <th>Height</th>\n",
       "      <th>Native County</th>\n",
       "      <th>Native State</th>\n",
       "      <th>Last Statement</th>\n",
       "    </tr>\n",
       "  </thead>\n",
       "  <tbody>\n",
       "    <tr>\n",
       "      <th>0</th>\n",
       "      <td>553</td>\n",
       "      <td>1983-09-24</td>\n",
       "      <td>2004-11-21</td>\n",
       "      <td>9.0</td>\n",
       "      <td>Young</td>\n",
       "      <td>Christopher Anthony</td>\n",
       "      <td>999508</td>\n",
       "      <td>34</td>\n",
       "      <td>2006-03-31</td>\n",
       "      <td>2018-07-17</td>\n",
       "      <td>Black</td>\n",
       "      <td>Bexar</td>\n",
       "      <td>Brown</td>\n",
       "      <td>216.0</td>\n",
       "      <td>6' 1\"</td>\n",
       "      <td>Bexar</td>\n",
       "      <td>Texas</td>\n",
       "      <td>l want to make sure the Patel family knows I l...</td>\n",
       "    </tr>\n",
       "    <tr>\n",
       "      <th>1</th>\n",
       "      <td>552</td>\n",
       "      <td>1951-08-28</td>\n",
       "      <td>1979-05-27</td>\n",
       "      <td>12.0</td>\n",
       "      <td>Bible</td>\n",
       "      <td>Danny Paul</td>\n",
       "      <td>999455</td>\n",
       "      <td>66</td>\n",
       "      <td>2003-07-17</td>\n",
       "      <td>2018-06-27</td>\n",
       "      <td>White</td>\n",
       "      <td>Harris</td>\n",
       "      <td>Blue</td>\n",
       "      <td>194.0</td>\n",
       "      <td>5' 7\"</td>\n",
       "      <td>Brazoria</td>\n",
       "      <td>Texas</td>\n",
       "      <td>NaN</td>\n",
       "    </tr>\n",
       "    <tr>\n",
       "      <th>2</th>\n",
       "      <td>551</td>\n",
       "      <td>1981-04-03</td>\n",
       "      <td>2003-12-03</td>\n",
       "      <td>10.0</td>\n",
       "      <td>Castillo</td>\n",
       "      <td>Juan Edward</td>\n",
       "      <td>999502</td>\n",
       "      <td>37</td>\n",
       "      <td>2005-09-27</td>\n",
       "      <td>2018-05-16</td>\n",
       "      <td>Hispanic</td>\n",
       "      <td>Bexar</td>\n",
       "      <td>Brown</td>\n",
       "      <td>180.0</td>\n",
       "      <td>5' 11\"</td>\n",
       "      <td>Bexar</td>\n",
       "      <td>Texas</td>\n",
       "      <td>To everyone that has been there for me you kno...</td>\n",
       "    </tr>\n",
       "    <tr>\n",
       "      <th>3</th>\n",
       "      <td>550</td>\n",
       "      <td>1987-04-04</td>\n",
       "      <td>2008-04-06</td>\n",
       "      <td>11.0</td>\n",
       "      <td>Davila</td>\n",
       "      <td>Erick Daniel</td>\n",
       "      <td>999545</td>\n",
       "      <td>31</td>\n",
       "      <td>2009-02-27</td>\n",
       "      <td>2018-04-25</td>\n",
       "      <td>Black</td>\n",
       "      <td>Tarrant</td>\n",
       "      <td>Brown</td>\n",
       "      <td>161.0</td>\n",
       "      <td>5' 11\"</td>\n",
       "      <td>Tarrant</td>\n",
       "      <td>Texas</td>\n",
       "      <td>Yes, I would like to say nephew it burns huh. ...</td>\n",
       "    </tr>\n",
       "    <tr>\n",
       "      <th>4</th>\n",
       "      <td>549</td>\n",
       "      <td>1980-03-26</td>\n",
       "      <td>2005-09-13</td>\n",
       "      <td>12.0</td>\n",
       "      <td>Rodriguez III</td>\n",
       "      <td>Rosendo</td>\n",
       "      <td>999534</td>\n",
       "      <td>38</td>\n",
       "      <td>2008-05-14</td>\n",
       "      <td>2018-03-27</td>\n",
       "      <td>Hispanic</td>\n",
       "      <td>Lubbock</td>\n",
       "      <td>Brown</td>\n",
       "      <td>198.0</td>\n",
       "      <td>5' 8\"</td>\n",
       "      <td>Wichita</td>\n",
       "      <td>Texas</td>\n",
       "      <td>First I would like to say I have been here sin...</td>\n",
       "    </tr>\n",
       "  </tbody>\n",
       "</table>\n",
       "</div>"
      ],
      "text/plain": [
       "   Execution Date of Birth Date of Offence  Highest Education Level  \\\n",
       "0        553    1983-09-24      2004-11-21                      9.0   \n",
       "1        552    1951-08-28      1979-05-27                     12.0   \n",
       "2        551    1981-04-03      2003-12-03                     10.0   \n",
       "3        550    1987-04-04      2008-04-06                     11.0   \n",
       "4        549    1980-03-26      2005-09-13                     12.0   \n",
       "\n",
       "       Last Name           First Name  TDCJ\\nNumber  Age at Execution  \\\n",
       "0          Young  Christopher Anthony        999508                34   \n",
       "1          Bible           Danny Paul        999455                66   \n",
       "2       Castillo          Juan Edward        999502                37   \n",
       "3         Davila         Erick Daniel        999545                31   \n",
       "4  Rodriguez III              Rosendo        999534                38   \n",
       "\n",
       "  Date Received Execution Date      Race   County Eye Color  Weight  Height  \\\n",
       "0    2006-03-31     2018-07-17     Black    Bexar     Brown   216.0   6' 1\"   \n",
       "1    2003-07-17     2018-06-27     White   Harris      Blue   194.0   5' 7\"   \n",
       "2    2005-09-27     2018-05-16  Hispanic    Bexar     Brown   180.0  5' 11\"   \n",
       "3    2009-02-27     2018-04-25     Black  Tarrant     Brown   161.0  5' 11\"   \n",
       "4    2008-05-14     2018-03-27  Hispanic  Lubbock     Brown   198.0   5' 8\"   \n",
       "\n",
       "  Native County Native State  \\\n",
       "0         Bexar        Texas   \n",
       "1      Brazoria        Texas   \n",
       "2         Bexar        Texas   \n",
       "3       Tarrant        Texas   \n",
       "4       Wichita        Texas   \n",
       "\n",
       "                                      Last Statement  \n",
       "0  l want to make sure the Patel family knows I l...  \n",
       "1                                                NaN  \n",
       "2  To everyone that has been there for me you kno...  \n",
       "3  Yes, I would like to say nephew it burns huh. ...  \n",
       "4  First I would like to say I have been here sin...  "
      ]
     },
     "execution_count": 21,
     "metadata": {},
     "output_type": "execute_result"
    }
   ],
   "source": [
    "df.head()"
   ]
  },
  {
   "cell_type": "code",
   "execution_count": 22,
   "metadata": {},
   "outputs": [
    {
     "data": {
      "text/plain": [
       "Execution                    int64\n",
       "Date of Birth               object\n",
       "Date of Offence             object\n",
       "Highest Education Level    float64\n",
       "Last Name                   object\n",
       "First Name                  object\n",
       "TDCJ\\nNumber                 int64\n",
       "Age at Execution             int64\n",
       "Date Received               object\n",
       "Execution Date              object\n",
       "Race                        object\n",
       "County                      object\n",
       "Eye Color                   object\n",
       "Weight                     float64\n",
       "Height                      object\n",
       "Native County               object\n",
       "Native State                object\n",
       "Last Statement              object\n",
       "dtype: object"
      ]
     },
     "execution_count": 22,
     "metadata": {},
     "output_type": "execute_result"
    }
   ],
   "source": [
    "df.dtypes"
   ]
  },
  {
   "cell_type": "markdown",
   "metadata": {},
   "source": [
    "## Youngest Inmates Executed"
   ]
  },
  {
   "cell_type": "code",
   "execution_count": 23,
   "metadata": {},
   "outputs": [],
   "source": [
    "df[\"Full Name\"] = df['First Name'] + \" \" + df['Last Name']"
   ]
  },
  {
   "cell_type": "code",
   "execution_count": 24,
   "metadata": {},
   "outputs": [
    {
     "data": {
      "text/plain": [
       "<matplotlib.axes._subplots.AxesSubplot at 0x12853b780>"
      ]
     },
     "execution_count": 24,
     "metadata": {},
     "output_type": "execute_result"
    },
    {
     "data": {
      "image/png": "[encoded data removed]",
      "text/plain": [
       "<Figure size 720x432 with 1 Axes>"
      ]
     },
     "metadata": {
      "needs_background": "light"
     },
     "output_type": "display_data"
    }
   ],
   "source": [
    "young = df.sort_values(by='Age at Execution', ascending=True).head(10)\n",
    "young.sort_values(by='Age at Execution', ascending=False).plot(x='Full Name', \n",
    "                                                               y='Age at Execution', \n",
    "                                                               kind='barh', \n",
    "                                                               figsize=(10, 6),\n",
    "                                                               title=\"Youngest Inmates Executed\",\n",
    "                                                               color=\"#D34123\")"
   ]
  },
  {
   "cell_type": "markdown",
   "metadata": {},
   "source": [
    "## Year with the Most Executions\n"
   ]
  },
  {
   "cell_type": "code",
   "execution_count": 26,
   "metadata": {},
   "outputs": [],
   "source": [
    "#Make a year only column\n",
    "df['Year'] = df['Execution Date'].str.replace('(-.*)', '', regex = True).astype(int)"
   ]
  },
  {
   "cell_type": "code",
   "execution_count": 27,
   "metadata": {},
   "outputs": [
    {
     "data": {
      "text/plain": [
       "<matplotlib.axes._subplots.AxesSubplot at 0x12c9304e0>"
      ]
     },
     "execution_count": 27,
     "metadata": {},
     "output_type": "execute_result"
    },
    {
     "data": {
      "image/png": "[encoded data removed]",
      "text/plain": [
       "<Figure size 720x432 with 1 Axes>"
      ]
     },
     "metadata": {
      "needs_background": "light"
     },
     "output_type": "display_data"
    }
   ],
   "source": [
    "df['Year'].value_counts(ascending=True).plot(kind='bar', \n",
    "                                             figsize=(10, 6),\n",
    "                                             title=\"Year with the Most Executions\",\n",
    "                                             color=\"#D34123\")"
   ]
  },
  {
   "cell_type": "code",
   "execution_count": 10,
   "metadata": {},
   "outputs": [
    {
     "data": {
      "text/plain": [
       "2000    40\n",
       "1997    37\n",
       "1999    35\n",
       "2002    33\n",
       "2007    26\n",
       "2009    24\n",
       "2003    24\n",
       "2006    24\n",
       "2004    23\n",
       "1998    20\n",
       "2005    19\n",
       "1995    19\n",
       "2008    18\n",
       "2010    17\n",
       "2001    17\n",
       "1993    17\n",
       "2013    16\n",
       "2012    15\n",
       "1994    14\n",
       "2011    13\n",
       "2015    13\n",
       "1992    12\n",
       "2014    10\n",
       "1986    10\n",
       "2018     8\n",
       "2017     7\n",
       "2016     7\n",
       "1987     6\n",
       "1985     6\n",
       "1991     5\n",
       "1990     4\n",
       "1989     4\n",
       "1996     3\n",
       "1988     3\n",
       "1984     3\n",
       "1982     1\n",
       "Name: Year, dtype: int64"
      ]
     },
     "execution_count": 10,
     "metadata": {},
     "output_type": "execute_result"
    }
   ],
   "source": [
    "df['Year'].value_counts()"
   ]
  },
  {
   "cell_type": "markdown",
   "metadata": {},
   "source": [
    "## Executions by race \n",
    "#### Pie Chart\n"
   ]
  },
  {
   "cell_type": "code",
   "execution_count": 16,
   "metadata": {},
   "outputs": [
    {
     "data": {
      "text/plain": [
       "Other         1\n",
       "Asian         1\n",
       "Hispanic    105\n",
       "Black       201\n",
       "White       245\n",
       "Name: Race, dtype: int64"
      ]
     },
     "execution_count": 16,
     "metadata": {},
     "output_type": "execute_result"
    }
   ],
   "source": [
    "df['Race'].value_counts(ascending=True)"
   ]
  },
  {
   "cell_type": "code",
   "execution_count": 11,
   "metadata": {},
   "outputs": [
    {
     "data": {
      "text/plain": [
       "<matplotlib.axes._subplots.AxesSubplot at 0x12a9492b0>"
      ]
     },
     "execution_count": 11,
     "metadata": {},
     "output_type": "execute_result"
    },
    {
     "data": {
      "image/png": "[encoded data removed]",
      "text/plain": [
       "<Figure size 720x432 with 1 Axes>"
      ]
     },
     "metadata": {
      "needs_background": "light"
     },
     "output_type": "display_data"
    }
   ],
   "source": [
    "df['Race'].value_counts(ascending=True).plot(kind='barh',\n",
    "                                             figsize=(10, 6),\n",
    "                                             title=\"Executions by race\",\n",
    "                                             color=\"#D34123\")"
   ]
  },
  {
   "cell_type": "markdown",
   "metadata": {},
   "source": [
    "## Most common level of education\n"
   ]
  },
  {
   "cell_type": "code",
   "execution_count": 12,
   "metadata": {},
   "outputs": [
    {
     "data": {
      "text/plain": [
       "<matplotlib.axes._subplots.AxesSubplot at 0x12a7f7c50>"
      ]
     },
     "execution_count": 12,
     "metadata": {},
     "output_type": "execute_result"
    },
    {
     "data": {
      "image/png": "[encoded data removed]",
      "text/plain": [
       "<Figure size 720x432 with 1 Axes>"
      ]
     },
     "metadata": {
      "needs_background": "light"
     },
     "output_type": "display_data"
    }
   ],
   "source": [
    "df['Highest Education Level'].value_counts().plot(kind='bar', \n",
    "                                                  figsize=(10, 6),\n",
    "                                                  title=\"Most Common Level of Education\",\n",
    "                                                  color=\"#D34123\")"
   ]
  },
  {
   "cell_type": "markdown",
   "metadata": {},
   "source": [
    "## Most common (unique) last words\n",
    "### Word Cloud"
   ]
  },
  {
   "cell_type": "code",
   "execution_count": 13,
   "metadata": {
    "scrolled": true
   },
   "outputs": [
    {
     "data": {
      "text/plain": [
       "I                3425\n",
       "to               1634\n",
       "and              1380\n",
       "the              1282\n",
       "you              1189\n",
       "my                895\n",
       "for               838\n",
       "that              751\n",
       "love              721\n",
       "of                718\n",
       "all               557\n",
       "am                525\n",
       "have              515\n",
       "a                 507\n",
       "is                500\n",
       "in                491\n",
       "me                393\n",
       "your              322\n",
       "know              317\n",
       "not               315\n",
       "will              314\n",
       "be                306\n",
       "you.              290\n",
       "this              278\n",
       "it                246\n",
       "want              245\n",
       "would             242\n",
       "with              238\n",
       "like              236\n",
       "me.               226\n",
       "                 ... \n",
       "fantasy.            1\n",
       "once.               1\n",
       "surprised           1\n",
       "road.               1\n",
       "\"Hi,                1\n",
       "grain.              1\n",
       "statement:)         1\n",
       "unintentional       1\n",
       "Strength            1\n",
       "through,            1\n",
       "Kindom's            1\n",
       "y                   1\n",
       "grass               1\n",
       "Teach,              1\n",
       "fourteen            1\n",
       "afraid,             1\n",
       "And,                1\n",
       "client,             1\n",
       "Islamic.)           1\n",
       "grumah.             1\n",
       "guaranteed          1\n",
       "(Verbal:)           1\n",
       "Word.               1\n",
       "spun                1\n",
       "affection           1\n",
       "Terella,            1\n",
       "sincere.            1\n",
       "Crain               1\n",
       "as)                 1\n",
       "gained              1\n",
       "Length: 5659, dtype: int64"
      ]
     },
     "execution_count": 13,
     "metadata": {},
     "output_type": "execute_result"
    }
   ],
   "source": [
    "df['Last Statement'].str.split(expand=True).stack().value_counts()\n"
   ]
  },
  {
   "cell_type": "code",
   "execution_count": 14,
   "metadata": {},
   "outputs": [
    {
     "name": "stdout",
     "output_type": "stream",
     "text": [
      "All frequencies, including STOPWORDS:\n",
      "============================================================\n",
      "      Word  Frequency\n",
      "0        .       4528\n",
      "1        i       3765\n",
      "2        ,       2528\n",
      "3      you       1801\n",
      "4       to       1787\n",
      "5      and       1472\n",
      "6      the       1371\n",
      "7       my        953\n",
      "8     that        908\n",
      "9      for        875\n",
      "10    love        789\n",
      "11     all        739\n",
      "12      of        721\n",
      "13      me        691\n",
      "14      am        536\n",
      "15      is        529\n",
      "16    have        528\n",
      "17       a        521\n",
      "18      in        510\n",
      "19      it        495\n",
      "20    this        421\n",
      "21  family        361\n",
      "22      do        350\n",
      "23     not        349\n",
      "24     n't        346\n",
      "25    know        345\n",
      "26      be        342\n",
      "27    your        328\n",
      "28    will        319\n",
      "29      's        316\n",
      "============================================================\n"
     ]
    },
    {
     "data": {
      "text/plain": [
       "<matplotlib.axes._subplots.AxesSubplot at 0x12b521710>"
      ]
     },
     "execution_count": 14,
     "metadata": {},
     "output_type": "execute_result"
    },
    {
     "data": {
      "image/png": "[encoded data removed]",
      "text/plain": [
       "<Figure size 432x288 with 1 Axes>"
      ]
     },
     "metadata": {},
     "output_type": "display_data"
    }
   ],
   "source": [
    "top_N = 30\n",
    "\n",
    "txt = df['Last Statement'].str.lower().str.replace(r'\\|', ' ').str.cat(sep=' ')\n",
    "words = nltk.tokenize.word_tokenize(txt)\n",
    "word_dist = nltk.FreqDist(words)\n",
    "\n",
    "stopwords = nltk.corpus.stopwords.words('english')\n",
    "words_except_stop_dist = nltk.FreqDist(w for w in words if w not in stopwords) \n",
    "\n",
    "print('All frequencies, including STOPWORDS:')\n",
    "print('=' * 60)\n",
    "rslt = pd.DataFrame(word_dist.most_common(top_N),\n",
    "                    columns=['Word', 'Frequency'])\n",
    "print(rslt)\n",
    "print('=' * 60)\n",
    "\n",
    "rslt = pd.DataFrame(words_except_stop_dist.most_common(top_N),\n",
    "                    columns=['Word', 'Frequency']).set_index('Word')\n",
    "\n",
    "matplotlib.style.use('ggplot')\n",
    "\n",
    "rslt.plot.bar(rot=0)"
   ]
  },
  {
   "cell_type": "markdown",
   "metadata": {},
   "source": [
    "## Which county in Texas has the most death row inmates\n",
    "#### Choropleth"
   ]
  },
  {
   "cell_type": "code",
   "execution_count": 15,
   "metadata": {},
   "outputs": [
    {
     "data": {
      "text/plain": [
       "Harris            74\n",
       "Dallas            43\n",
       "Bexar             30\n",
       "Tarrant           26\n",
       "Jefferson         10\n",
       "Nueces             7\n",
       "Potter             6\n",
       "Travis             6\n",
       "McLennan           6\n",
       "Hidalgo            5\n",
       "Lubbock            5\n",
       "Brazos             5\n",
       "Cameron            4\n",
       "El Paso            4\n",
       "Smith              4\n",
       "Williamson         3\n",
       "Wichita            3\n",
       "Gregg              3\n",
       "Lamar              3\n",
       "Galveston          3\n",
       "Navarro            2\n",
       "Hays               2\n",
       "Taylor             2\n",
       "Wharton            2\n",
       "Scurry             2\n",
       "Anderson           2\n",
       "Waller             2\n",
       "Grimes             2\n",
       "Nacoqdoches        2\n",
       "Leon               2\n",
       "                  ..\n",
       "Grayson            1\n",
       "Kaufman            1\n",
       "Austin             1\n",
       "Deaf Smith         1\n",
       "Freestone          1\n",
       "Cherokee           1\n",
       "Dawson             1\n",
       "Victoria           1\n",
       "Bailey             1\n",
       "Calhoun            1\n",
       "Hunt County        1\n",
       "Hutchinson         1\n",
       "Ochiltree          1\n",
       "Martin             1\n",
       "Red River          1\n",
       "Houston            1\n",
       "Parmer             1\n",
       "Callahan           1\n",
       "Erath              1\n",
       "Fort Bend          1\n",
       "Angelina           1\n",
       "Gonzales           1\n",
       "San Patricio       1\n",
       "Webb               1\n",
       "Colorado           1\n",
       "Colorado City      1\n",
       "Knox               1\n",
       "Wharton County     1\n",
       "Harrison           1\n",
       "Hopkins            1\n",
       "Name: Native County, Length: 91, dtype: int64"
      ]
     },
     "execution_count": 15,
     "metadata": {},
     "output_type": "execute_result"
    }
   ],
   "source": [
    "texas = df[df['Native State'] == 'Texas']\n",
    "texas['Native County'].value_counts()"
   ]
  },
  {
   "cell_type": "code",
   "execution_count": null,
   "metadata": {},
   "outputs": [],
   "source": []
  }
 ],
 "metadata": {
  "kernelspec": {
   "display_name": "Python 3",
   "language": "python",
   "name": "python3"
  },
  "language_info": {
   "codemirror_mode": {
    "name": "ipython",
    "version": 3
   },
   "file_extension": ".py",
   "mimetype": "text/x-python",
   "name": "python",
   "nbconvert_exporter": "python",
   "pygments_lexer": "ipython3",
   "version": "3.6.8"
  }
 },
 "nbformat": 4,
 "nbformat_minor": 2
}
