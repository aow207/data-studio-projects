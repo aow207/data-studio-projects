{
 "cells": [
  {
   "cell_type": "markdown",
   "metadata": {},
   "source": [
    "# Famous Last Words\n",
    "The dataset documents Texas death row inmates executed from 1976, when the Supreme Court reinstated the death penalty, to the present. It was extracted from the Texas Department of Criminal Justice website.\n",
    "\n",
    "Source: https://selectstarsql.com/frontmatter.html#dataset"
   ]
  },
  {
   "cell_type": "code",
   "execution_count": 1,
   "metadata": {},
   "outputs": [],
   "source": [
    "import pandas as pd\n",
    "import matplotlib\n",
    "import matplotlib.pyplot as plt\n",
    "import seaborn as sns\n",
    "matplotlib.rcParams['pdf.fonttype'] = 42 #makes text editable in illustrator\n",
    "\n",
    "%matplotlib inline"
   ]
  },
  {
   "cell_type": "code",
   "execution_count": null,
   "metadata": {},
   "outputs": [],
   "source": [
    "df = pd.read_csv(\"tx_deathrow_full.csv\")"
   ]
  },
  {
   "cell_type": "code",
   "execution_count": 15,
   "metadata": {},
   "outputs": [
    {
     "data": {
      "text/html": [
       "<div>\n",
       "<style scoped>\n",
       "    .dataframe tbody tr th:only-of-type {\n",
       "        vertical-align: middle;\n",
       "    }\n",
       "\n",
       "    .dataframe tbody tr th {\n",
       "        vertical-align: top;\n",
       "    }\n",
       "\n",
       "    .dataframe thead th {\n",
       "        text-align: right;\n",
       "    }\n",
       "</style>\n",
       "<table border=\"1\" class=\"dataframe\">\n",
       "  <thead>\n",
       "    <tr style=\"text-align: right;\">\n",
       "      <th></th>\n",
       "      <th>Execution</th>\n",
       "      <th>Date of Birth</th>\n",
       "      <th>Date of Offence</th>\n",
       "      <th>Highest Education Level</th>\n",
       "      <th>Last Name</th>\n",
       "      <th>First Name</th>\n",
       "      <th>TDCJ\n",
       "Number</th>\n",
       "      <th>Age at Execution</th>\n",
       "      <th>Date Received</th>\n",
       "      <th>Execution Date</th>\n",
       "      <th>Race</th>\n",
       "      <th>County</th>\n",
       "      <th>Eye Color</th>\n",
       "      <th>Weight</th>\n",
       "      <th>Height</th>\n",
       "      <th>Native County</th>\n",
       "      <th>Native State</th>\n",
       "      <th>Last Statement</th>\n",
       "      <th>Full Name</th>\n",
       "    </tr>\n",
       "  </thead>\n",
       "  <tbody>\n",
       "    <tr>\n",
       "      <th>0</th>\n",
       "      <td>553</td>\n",
       "      <td>1983-09-24</td>\n",
       "      <td>2004-11-21</td>\n",
       "      <td>9.0</td>\n",
       "      <td>Young</td>\n",
       "      <td>Christopher Anthony</td>\n",
       "      <td>999508</td>\n",
       "      <td>34</td>\n",
       "      <td>2006-03-31</td>\n",
       "      <td>2018-07-17</td>\n",
       "      <td>Black</td>\n",
       "      <td>Bexar</td>\n",
       "      <td>Brown</td>\n",
       "      <td>216.0</td>\n",
       "      <td>6' 1\"</td>\n",
       "      <td>Bexar</td>\n",
       "      <td>Texas</td>\n",
       "      <td>l want to make sure the Patel family knows I l...</td>\n",
       "      <td>Christopher Anthony Young</td>\n",
       "    </tr>\n",
       "    <tr>\n",
       "      <th>1</th>\n",
       "      <td>552</td>\n",
       "      <td>1951-08-28</td>\n",
       "      <td>1979-05-27</td>\n",
       "      <td>12.0</td>\n",
       "      <td>Bible</td>\n",
       "      <td>Danny Paul</td>\n",
       "      <td>999455</td>\n",
       "      <td>66</td>\n",
       "      <td>2003-07-17</td>\n",
       "      <td>2018-06-27</td>\n",
       "      <td>White</td>\n",
       "      <td>Harris</td>\n",
       "      <td>Blue</td>\n",
       "      <td>194.0</td>\n",
       "      <td>5' 7\"</td>\n",
       "      <td>Brazoria</td>\n",
       "      <td>Texas</td>\n",
       "      <td>NaN</td>\n",
       "      <td>Danny Paul Bible</td>\n",
       "    </tr>\n",
       "    <tr>\n",
       "      <th>2</th>\n",
       "      <td>551</td>\n",
       "      <td>1981-04-03</td>\n",
       "      <td>2003-12-03</td>\n",
       "      <td>10.0</td>\n",
       "      <td>Castillo</td>\n",
       "      <td>Juan Edward</td>\n",
       "      <td>999502</td>\n",
       "      <td>37</td>\n",
       "      <td>2005-09-27</td>\n",
       "      <td>2018-05-16</td>\n",
       "      <td>Hispanic</td>\n",
       "      <td>Bexar</td>\n",
       "      <td>Brown</td>\n",
       "      <td>180.0</td>\n",
       "      <td>5' 11\"</td>\n",
       "      <td>Bexar</td>\n",
       "      <td>Texas</td>\n",
       "      <td>To everyone that has been there for me you kno...</td>\n",
       "      <td>Juan Edward Castillo</td>\n",
       "    </tr>\n",
       "    <tr>\n",
       "      <th>3</th>\n",
       "      <td>550</td>\n",
       "      <td>1987-04-04</td>\n",
       "      <td>2008-04-06</td>\n",
       "      <td>11.0</td>\n",
       "      <td>Davila</td>\n",
       "      <td>Erick Daniel</td>\n",
       "      <td>999545</td>\n",
       "      <td>31</td>\n",
       "      <td>2009-02-27</td>\n",
       "      <td>2018-04-25</td>\n",
       "      <td>Black</td>\n",
       "      <td>Tarrant</td>\n",
       "      <td>Brown</td>\n",
       "      <td>161.0</td>\n",
       "      <td>5' 11\"</td>\n",
       "      <td>Tarrant</td>\n",
       "      <td>Texas</td>\n",
       "      <td>Yes, I would like to say nephew it burns huh. ...</td>\n",
       "      <td>Erick Daniel Davila</td>\n",
       "    </tr>\n",
       "    <tr>\n",
       "      <th>4</th>\n",
       "      <td>549</td>\n",
       "      <td>1980-03-26</td>\n",
       "      <td>2005-09-13</td>\n",
       "      <td>12.0</td>\n",
       "      <td>Rodriguez III</td>\n",
       "      <td>Rosendo</td>\n",
       "      <td>999534</td>\n",
       "      <td>38</td>\n",
       "      <td>2008-05-14</td>\n",
       "      <td>2018-03-27</td>\n",
       "      <td>Hispanic</td>\n",
       "      <td>Lubbock</td>\n",
       "      <td>Brown</td>\n",
       "      <td>198.0</td>\n",
       "      <td>5' 8\"</td>\n",
       "      <td>Wichita</td>\n",
       "      <td>Texas</td>\n",
       "      <td>First I would like to say I have been here sin...</td>\n",
       "      <td>Rosendo Rodriguez III</td>\n",
       "    </tr>\n",
       "  </tbody>\n",
       "</table>\n",
       "</div>"
      ],
      "text/plain": [
       "   Execution Date of Birth Date of Offence  Highest Education Level  \\\n",
       "0        553    1983-09-24      2004-11-21                      9.0   \n",
       "1        552    1951-08-28      1979-05-27                     12.0   \n",
       "2        551    1981-04-03      2003-12-03                     10.0   \n",
       "3        550    1987-04-04      2008-04-06                     11.0   \n",
       "4        549    1980-03-26      2005-09-13                     12.0   \n",
       "\n",
       "       Last Name           First Name  TDCJ\\nNumber  Age at Execution  \\\n",
       "0          Young  Christopher Anthony        999508                34   \n",
       "1          Bible           Danny Paul        999455                66   \n",
       "2       Castillo          Juan Edward        999502                37   \n",
       "3         Davila         Erick Daniel        999545                31   \n",
       "4  Rodriguez III              Rosendo        999534                38   \n",
       "\n",
       "  Date Received Execution Date      Race   County Eye Color  Weight  Height  \\\n",
       "0    2006-03-31     2018-07-17     Black    Bexar     Brown   216.0   6' 1\"   \n",
       "1    2003-07-17     2018-06-27     White   Harris      Blue   194.0   5' 7\"   \n",
       "2    2005-09-27     2018-05-16  Hispanic    Bexar     Brown   180.0  5' 11\"   \n",
       "3    2009-02-27     2018-04-25     Black  Tarrant     Brown   161.0  5' 11\"   \n",
       "4    2008-05-14     2018-03-27  Hispanic  Lubbock     Brown   198.0   5' 8\"   \n",
       "\n",
       "  Native County Native State  \\\n",
       "0         Bexar        Texas   \n",
       "1      Brazoria        Texas   \n",
       "2         Bexar        Texas   \n",
       "3       Tarrant        Texas   \n",
       "4       Wichita        Texas   \n",
       "\n",
       "                                      Last Statement  \\\n",
       "0  l want to make sure the Patel family knows I l...   \n",
       "1                                                NaN   \n",
       "2  To everyone that has been there for me you kno...   \n",
       "3  Yes, I would like to say nephew it burns huh. ...   \n",
       "4  First I would like to say I have been here sin...   \n",
       "\n",
       "                   Full Name  \n",
       "0  Christopher Anthony Young  \n",
       "1           Danny Paul Bible  \n",
       "2       Juan Edward Castillo  \n",
       "3        Erick Daniel Davila  \n",
       "4      Rosendo Rodriguez III  "
      ]
     },
     "execution_count": 15,
     "metadata": {},
     "output_type": "execute_result"
    }
   ],
   "source": [
    "df.head()"
   ]
  },
  {
   "cell_type": "code",
   "execution_count": 4,
   "metadata": {},
   "outputs": [
    {
     "data": {
      "text/plain": [
       "Execution                    int64\n",
       "Date of Birth               object\n",
       "Date of Offence             object\n",
       "Highest Education Level    float64\n",
       "Last Name                   object\n",
       "First Name                  object\n",
       "TDCJ\\nNumber                 int64\n",
       "Age at Execution             int64\n",
       "Date Received               object\n",
       "Execution Date              object\n",
       "Race                        object\n",
       "County                      object\n",
       "Eye Color                   object\n",
       "Weight                     float64\n",
       "Height                      object\n",
       "Native County               object\n",
       "Native State                object\n",
       "Last Statement              object\n",
       "dtype: object"
      ]
     },
     "execution_count": 4,
     "metadata": {},
     "output_type": "execute_result"
    }
   ],
   "source": [
    "df.dtypes"
   ]
  },
  {
   "cell_type": "code",
   "execution_count": 14,
   "metadata": {},
   "outputs": [],
   "source": [
    "df[\"Full Name\"] = df['First Name'] + \" \" + df['Last Name']"
   ]
  },
  {
   "cell_type": "code",
   "execution_count": 42,
   "metadata": {},
   "outputs": [
    {
     "data": {
      "text/plain": [
       "<matplotlib.axes._subplots.AxesSubplot at 0x12abd5ba8>"
      ]
     },
     "execution_count": 42,
     "metadata": {},
     "output_type": "execute_result"
    },
    {
     "data": {
      "image/png": "[encoded data removed]",
      "text/plain": [
       "<Figure size 720x432 with 1 Axes>"
      ]
     },
     "metadata": {
      "needs_background": "light"
     },
     "output_type": "display_data"
    }
   ],
   "source": [
    "# Youngest Inmates Executed\n",
    "#df['Age at Execution']\n",
    "\n",
    "young = df.sort_values(by='Age at Execution', ascending=True).head(10)\n",
    "\n",
    "young.sort_values(by='Age at Execution', ascending=False).plot(x='Full Name', \n",
    "                                                               y='Age at Execution', \n",
    "                                                               kind='barh', \n",
    "                                                               figsize=(10, 6),\n",
    "                                                               title=\"Youngest Inmates Executed\",\n",
    "                                                               color=\"#D34123\")"
   ]
  },
  {
   "cell_type": "code",
   "execution_count": 39,
   "metadata": {},
   "outputs": [],
   "source": [
    "# Year with the most executions"
   ]
  },
  {
   "cell_type": "code",
   "execution_count": 34,
   "metadata": {},
   "outputs": [
    {
     "data": {
      "text/plain": [
       "<matplotlib.axes._subplots.AxesSubplot at 0x127b12550>"
      ]
     },
     "execution_count": 34,
     "metadata": {},
     "output_type": "execute_result"
    },
    {
     "data": {
      "image/png": "[encoded data removed]",
      "text/plain": [
       "<Figure size 720x432 with 1 Axes>"
      ]
     },
     "metadata": {
      "needs_background": "light"
     },
     "output_type": "display_data"
    }
   ],
   "source": [
    "# Executions by race\n",
    "df['Race'].value_counts(ascending=True).plot(kind='barh',\n",
    "                                             figsize=(10, 6),\n",
    "                                             title=\"Executions by race\",\n",
    "                                             color=\"#D34123\")"
   ]
  },
  {
   "cell_type": "code",
   "execution_count": null,
   "metadata": {},
   "outputs": [],
   "source": [
    "# Most common level of education, Pie Chart"
   ]
  },
  {
   "cell_type": "code",
   "execution_count": 13,
   "metadata": {},
   "outputs": [],
   "source": [
    "# Most common last words"
   ]
  },
  {
   "cell_type": "code",
   "execution_count": null,
   "metadata": {},
   "outputs": [],
   "source": []
  }
 ],
 "metadata": {
  "kernelspec": {
   "display_name": "Python 3",
   "language": "python",
   "name": "python3"
  },
  "language_info": {
   "codemirror_mode": {
    "name": "ipython",
    "version": 3
   },
   "file_extension": ".py",
   "mimetype": "text/x-python",
   "name": "python",
   "nbconvert_exporter": "python",
   "pygments_lexer": "ipython3",
   "version": "3.6.8"
  }
 },
 "nbformat": 4,
 "nbformat_minor": 2
}
