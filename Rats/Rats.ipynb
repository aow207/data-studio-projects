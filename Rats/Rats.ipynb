{
 "cells": [
  {
   "cell_type": "markdown",
   "metadata": {},
   "source": [
    "# Oh, Rats\n",
    "Rats are synonymous with NYC and I’m looking at which areas have the most of them. I’d also like to look at the reasons why rats may prefer one area over another and see if it has any correlation with the median income of each area.\n",
    "\n",
    "Sources \n",
    "- https://data.cityofnewyork.us/Social-Services/Rat-Sightings/3q43-55fe\n",
    "- http://www.infoshare.org/main/directip.aspx"
   ]
  },
  {
   "cell_type": "code",
   "execution_count": 1,
   "metadata": {},
   "outputs": [],
   "source": [
    "import pandas as pd\n",
    "pd.options.display.max_columns = 100\n",
    "import matplotlib\n",
    "import matplotlib.pyplot as plt\n",
    "import seaborn as sns\n",
    "import re\n",
    "matplotlib.rcParams['pdf.fonttype'] = 42 #makes text editable in illustrator\n",
    "\n",
    "%matplotlib inline"
   ]
  },
  {
   "cell_type": "code",
   "execution_count": 2,
   "metadata": {},
   "outputs": [
    {
     "data": {
      "text/plain": [
       "100"
      ]
     },
     "execution_count": 2,
     "metadata": {},
     "output_type": "execute_result"
    }
   ],
   "source": [
    "pd.options.display.max_columns"
   ]
  },
  {
   "cell_type": "code",
   "execution_count": 3,
   "metadata": {},
   "outputs": [
    {
     "name": "stderr",
     "output_type": "stream",
     "text": [
      "/Users/aw207/.pyenv/versions/3.7.1/lib/python3.7/site-packages/IPython/core/interactiveshell.py:3058: DtypeWarning: Columns (17) have mixed types. Specify dtype option on import or set low_memory=False.\n",
      "  interactivity=interactivity, compiler=compiler, result=result)\n"
     ]
    }
   ],
   "source": [
    "df = pd.read_csv(\"Rat_Sightings.csv\")"
   ]
  },
  {
   "cell_type": "code",
   "execution_count": 4,
   "metadata": {},
   "outputs": [
    {
     "data": {
      "text/plain": [
       "Unique Key                          int64\n",
       "Created Date                       object\n",
       "Closed Date                        object\n",
       "Agency                             object\n",
       "Agency Name                        object\n",
       "Complaint Type                     object\n",
       "Descriptor                         object\n",
       "Location Type                      object\n",
       "Incident Zip                      float64\n",
       "Incident Address                   object\n",
       "Street Name                        object\n",
       "Cross Street 1                     object\n",
       "Cross Street 2                     object\n",
       "Intersection Street 1              object\n",
       "Intersection Street 2              object\n",
       "Address Type                       object\n",
       "City                               object\n",
       "Landmark                           object\n",
       "Facility Type                     float64\n",
       "Status                             object\n",
       "Due Date                           object\n",
       "Resolution Action Updated Date     object\n",
       "Community Board                    object\n",
       "Borough                            object\n",
       "X Coordinate (State Plane)        float64\n",
       "Y Coordinate (State Plane)        float64\n",
       "Park Facility Name                 object\n",
       "Park Borough                       object\n",
       "Vehicle Type                      float64\n",
       "Taxi Company Borough              float64\n",
       "Taxi Pick Up Location             float64\n",
       "Bridge Highway Name               float64\n",
       "Bridge Highway Direction          float64\n",
       "Road Ramp                         float64\n",
       "Bridge Highway Segment            float64\n",
       "Latitude                          float64\n",
       "Longitude                         float64\n",
       "Location                           object\n",
       "dtype: object"
      ]
     },
     "execution_count": 4,
     "metadata": {},
     "output_type": "execute_result"
    }
   ],
   "source": [
    "df.dtypes"
   ]
  },
  {
   "cell_type": "code",
   "execution_count": 5,
   "metadata": {},
   "outputs": [
    {
     "data": {
      "text/plain": [
       "(133828, 38)"
      ]
     },
     "execution_count": 5,
     "metadata": {},
     "output_type": "execute_result"
    }
   ],
   "source": [
    "df.shape"
   ]
  },
  {
   "cell_type": "code",
   "execution_count": 6,
   "metadata": {},
   "outputs": [
    {
     "data": {
      "text/html": [
       "<div>\n",
       "<style scoped>\n",
       "    .dataframe tbody tr th:only-of-type {\n",
       "        vertical-align: middle;\n",
       "    }\n",
       "\n",
       "    .dataframe tbody tr th {\n",
       "        vertical-align: top;\n",
       "    }\n",
       "\n",
       "    .dataframe thead th {\n",
       "        text-align: right;\n",
       "    }\n",
       "</style>\n",
       "<table border=\"1\" class=\"dataframe\">\n",
       "  <thead>\n",
       "    <tr style=\"text-align: right;\">\n",
       "      <th></th>\n",
       "      <th>Unique Key</th>\n",
       "      <th>Created Date</th>\n",
       "      <th>Closed Date</th>\n",
       "      <th>Agency</th>\n",
       "      <th>Agency Name</th>\n",
       "      <th>Complaint Type</th>\n",
       "      <th>Descriptor</th>\n",
       "      <th>Location Type</th>\n",
       "      <th>Incident Zip</th>\n",
       "      <th>Incident Address</th>\n",
       "      <th>Street Name</th>\n",
       "      <th>Cross Street 1</th>\n",
       "      <th>Cross Street 2</th>\n",
       "      <th>Intersection Street 1</th>\n",
       "      <th>Intersection Street 2</th>\n",
       "      <th>Address Type</th>\n",
       "      <th>City</th>\n",
       "      <th>Landmark</th>\n",
       "      <th>Facility Type</th>\n",
       "      <th>Status</th>\n",
       "      <th>Due Date</th>\n",
       "      <th>Resolution Action Updated Date</th>\n",
       "      <th>Community Board</th>\n",
       "      <th>Borough</th>\n",
       "      <th>X Coordinate (State Plane)</th>\n",
       "      <th>Y Coordinate (State Plane)</th>\n",
       "      <th>Park Facility Name</th>\n",
       "      <th>Park Borough</th>\n",
       "      <th>Vehicle Type</th>\n",
       "      <th>Taxi Company Borough</th>\n",
       "      <th>Taxi Pick Up Location</th>\n",
       "      <th>Bridge Highway Name</th>\n",
       "      <th>Bridge Highway Direction</th>\n",
       "      <th>Road Ramp</th>\n",
       "      <th>Bridge Highway Segment</th>\n",
       "      <th>Latitude</th>\n",
       "      <th>Longitude</th>\n",
       "      <th>Location</th>\n",
       "    </tr>\n",
       "  </thead>\n",
       "  <tbody>\n",
       "    <tr>\n",
       "      <th>0</th>\n",
       "      <td>36258648</td>\n",
       "      <td>05/23/2017 12:00:00 AM</td>\n",
       "      <td>06/01/2017 12:00:00 AM</td>\n",
       "      <td>DOHMH</td>\n",
       "      <td>Department of Health and Mental Hygiene</td>\n",
       "      <td>Rodent</td>\n",
       "      <td>Rat Sighting</td>\n",
       "      <td>3+ Family Apt. Building</td>\n",
       "      <td>11385.0</td>\n",
       "      <td>1737 WILLOUGHBY AVENUE</td>\n",
       "      <td>WILLOUGHBY AVENUE</td>\n",
       "      <td>CYPRESS AVENUE</td>\n",
       "      <td>SENECA AVENUE</td>\n",
       "      <td>NaN</td>\n",
       "      <td>NaN</td>\n",
       "      <td>ADDRESS</td>\n",
       "      <td>Ridgewood</td>\n",
       "      <td>NaN</td>\n",
       "      <td>NaN</td>\n",
       "      <td>Closed</td>\n",
       "      <td>06/22/2017 04:22:03 PM</td>\n",
       "      <td>06/01/2017 12:00:00 AM</td>\n",
       "      <td>05 QUEENS</td>\n",
       "      <td>QUEENS</td>\n",
       "      <td>1006773.0</td>\n",
       "      <td>197332.0</td>\n",
       "      <td>Unspecified</td>\n",
       "      <td>QUEENS</td>\n",
       "      <td>NaN</td>\n",
       "      <td>NaN</td>\n",
       "      <td>NaN</td>\n",
       "      <td>NaN</td>\n",
       "      <td>NaN</td>\n",
       "      <td>NaN</td>\n",
       "      <td>NaN</td>\n",
       "      <td>40.708279</td>\n",
       "      <td>-73.918762</td>\n",
       "      <td>(40.70827884615599, -73.91876178147548)</td>\n",
       "    </tr>\n",
       "    <tr>\n",
       "      <th>1</th>\n",
       "      <td>36258650</td>\n",
       "      <td>05/23/2017 12:00:00 AM</td>\n",
       "      <td>07/06/2017 12:00:00 AM</td>\n",
       "      <td>DOHMH</td>\n",
       "      <td>Department of Health and Mental Hygiene</td>\n",
       "      <td>Rodent</td>\n",
       "      <td>Rat Sighting</td>\n",
       "      <td>Construction Site</td>\n",
       "      <td>11238.0</td>\n",
       "      <td>820 WASHINGTON AVENUE</td>\n",
       "      <td>WASHINGTON AVENUE</td>\n",
       "      <td>ST JOHNS PLACE</td>\n",
       "      <td>LINCOLN PLACE</td>\n",
       "      <td>NaN</td>\n",
       "      <td>NaN</td>\n",
       "      <td>ADDRESS</td>\n",
       "      <td>BROOKLYN</td>\n",
       "      <td>NaN</td>\n",
       "      <td>NaN</td>\n",
       "      <td>Closed</td>\n",
       "      <td>06/22/2017 11:43:57 PM</td>\n",
       "      <td>07/06/2017 12:00:00 AM</td>\n",
       "      <td>08 BROOKLYN</td>\n",
       "      <td>BROOKLYN</td>\n",
       "      <td>994534.0</td>\n",
       "      <td>184614.0</td>\n",
       "      <td>Unspecified</td>\n",
       "      <td>BROOKLYN</td>\n",
       "      <td>NaN</td>\n",
       "      <td>NaN</td>\n",
       "      <td>NaN</td>\n",
       "      <td>NaN</td>\n",
       "      <td>NaN</td>\n",
       "      <td>NaN</td>\n",
       "      <td>NaN</td>\n",
       "      <td>40.673394</td>\n",
       "      <td>-73.962926</td>\n",
       "      <td>(40.673393560937974, -73.9629260422388)</td>\n",
       "    </tr>\n",
       "    <tr>\n",
       "      <th>2</th>\n",
       "      <td>32989859</td>\n",
       "      <td>03/25/2016 12:00:00 AM</td>\n",
       "      <td>04/05/2016 12:24:24 PM</td>\n",
       "      <td>DOHMH</td>\n",
       "      <td>Department of Health and Mental Hygiene</td>\n",
       "      <td>Rodent</td>\n",
       "      <td>Rat Sighting</td>\n",
       "      <td>Vacant Lot</td>\n",
       "      <td>10473.0</td>\n",
       "      <td>319 WHITE PLAINS ROAD</td>\n",
       "      <td>WHITE PLAINS ROAD</td>\n",
       "      <td>O'BRIEN AVENUE</td>\n",
       "      <td>PATTERSON AVENUE</td>\n",
       "      <td>NaN</td>\n",
       "      <td>NaN</td>\n",
       "      <td>ADDRESS</td>\n",
       "      <td>BRONX</td>\n",
       "      <td>NaN</td>\n",
       "      <td>NaN</td>\n",
       "      <td>Closed</td>\n",
       "      <td>04/24/2016 11:26:00 AM</td>\n",
       "      <td>04/05/2016 12:24:24 PM</td>\n",
       "      <td>09 BRONX</td>\n",
       "      <td>BRONX</td>\n",
       "      <td>1024132.0</td>\n",
       "      <td>235160.0</td>\n",
       "      <td>Unspecified</td>\n",
       "      <td>BRONX</td>\n",
       "      <td>NaN</td>\n",
       "      <td>NaN</td>\n",
       "      <td>NaN</td>\n",
       "      <td>NaN</td>\n",
       "      <td>NaN</td>\n",
       "      <td>NaN</td>\n",
       "      <td>NaN</td>\n",
       "      <td>40.812046</td>\n",
       "      <td>-73.855925</td>\n",
       "      <td>(40.81204563877927, -73.85592527378644)</td>\n",
       "    </tr>\n",
       "    <tr>\n",
       "      <th>3</th>\n",
       "      <td>35383418</td>\n",
       "      <td>01/31/2017 12:00:00 AM</td>\n",
       "      <td>02/06/2017 12:00:00 AM</td>\n",
       "      <td>DOHMH</td>\n",
       "      <td>Department of Health and Mental Hygiene</td>\n",
       "      <td>Rodent</td>\n",
       "      <td>Rat Sighting</td>\n",
       "      <td>3+ Family Apt. Building</td>\n",
       "      <td>11213.0</td>\n",
       "      <td>1134 ST JOHN'S PLACE</td>\n",
       "      <td>ST JOHN'S PLACE</td>\n",
       "      <td>HAMPTON PLACE</td>\n",
       "      <td>ALBANY AVENUE</td>\n",
       "      <td>NaN</td>\n",
       "      <td>NaN</td>\n",
       "      <td>ADDRESS</td>\n",
       "      <td>BROOKLYN</td>\n",
       "      <td>NaN</td>\n",
       "      <td>NaN</td>\n",
       "      <td>Closed</td>\n",
       "      <td>03/02/2017 10:41:41 AM</td>\n",
       "      <td>02/06/2017 12:00:00 AM</td>\n",
       "      <td>Unspecified BROOKLYN</td>\n",
       "      <td>BROOKLYN</td>\n",
       "      <td>1000744.0</td>\n",
       "      <td>183780.0</td>\n",
       "      <td>Unspecified</td>\n",
       "      <td>BROOKLYN</td>\n",
       "      <td>NaN</td>\n",
       "      <td>NaN</td>\n",
       "      <td>NaN</td>\n",
       "      <td>NaN</td>\n",
       "      <td>NaN</td>\n",
       "      <td>NaN</td>\n",
       "      <td>NaN</td>\n",
       "      <td>40.671095</td>\n",
       "      <td>-73.940541</td>\n",
       "      <td>(40.67109502635599, -73.94054095543362)</td>\n",
       "    </tr>\n",
       "    <tr>\n",
       "      <th>4</th>\n",
       "      <td>36923956</td>\n",
       "      <td>08/11/2017 12:00:00 AM</td>\n",
       "      <td>09/15/2017 12:00:00 AM</td>\n",
       "      <td>DOHMH</td>\n",
       "      <td>Department of Health and Mental Hygiene</td>\n",
       "      <td>Rodent</td>\n",
       "      <td>Rat Sighting</td>\n",
       "      <td>1-2 Family Dwelling</td>\n",
       "      <td>10308.0</td>\n",
       "      <td>29 AINSWORTH AVENUE</td>\n",
       "      <td>AINSWORTH AVENUE</td>\n",
       "      <td>AMBOY ROAD</td>\n",
       "      <td>O'GORMAN AVENUE</td>\n",
       "      <td>NaN</td>\n",
       "      <td>NaN</td>\n",
       "      <td>ADDRESS</td>\n",
       "      <td>STATEN ISLAND</td>\n",
       "      <td>NaN</td>\n",
       "      <td>NaN</td>\n",
       "      <td>Closed</td>\n",
       "      <td>09/10/2017 09:53:13 AM</td>\n",
       "      <td>09/15/2017 12:00:00 AM</td>\n",
       "      <td>03 STATEN ISLAND</td>\n",
       "      <td>STATEN ISLAND</td>\n",
       "      <td>945399.0</td>\n",
       "      <td>140951.0</td>\n",
       "      <td>Unspecified</td>\n",
       "      <td>STATEN ISLAND</td>\n",
       "      <td>NaN</td>\n",
       "      <td>NaN</td>\n",
       "      <td>NaN</td>\n",
       "      <td>NaN</td>\n",
       "      <td>NaN</td>\n",
       "      <td>NaN</td>\n",
       "      <td>NaN</td>\n",
       "      <td>40.553469</td>\n",
       "      <td>-74.139807</td>\n",
       "      <td>(40.553468530969305, -74.13980704201646)</td>\n",
       "    </tr>\n",
       "  </tbody>\n",
       "</table>\n",
       "</div>"
      ],
      "text/plain": [
       "   Unique Key            Created Date             Closed Date Agency  \\\n",
       "0    36258648  05/23/2017 12:00:00 AM  06/01/2017 12:00:00 AM  DOHMH   \n",
       "1    36258650  05/23/2017 12:00:00 AM  07/06/2017 12:00:00 AM  DOHMH   \n",
       "2    32989859  03/25/2016 12:00:00 AM  04/05/2016 12:24:24 PM  DOHMH   \n",
       "3    35383418  01/31/2017 12:00:00 AM  02/06/2017 12:00:00 AM  DOHMH   \n",
       "4    36923956  08/11/2017 12:00:00 AM  09/15/2017 12:00:00 AM  DOHMH   \n",
       "\n",
       "                               Agency Name Complaint Type    Descriptor  \\\n",
       "0  Department of Health and Mental Hygiene         Rodent  Rat Sighting   \n",
       "1  Department of Health and Mental Hygiene         Rodent  Rat Sighting   \n",
       "2  Department of Health and Mental Hygiene         Rodent  Rat Sighting   \n",
       "3  Department of Health and Mental Hygiene         Rodent  Rat Sighting   \n",
       "4  Department of Health and Mental Hygiene         Rodent  Rat Sighting   \n",
       "\n",
       "             Location Type  Incident Zip        Incident Address  \\\n",
       "0  3+ Family Apt. Building       11385.0  1737 WILLOUGHBY AVENUE   \n",
       "1        Construction Site       11238.0   820 WASHINGTON AVENUE   \n",
       "2               Vacant Lot       10473.0   319 WHITE PLAINS ROAD   \n",
       "3  3+ Family Apt. Building       11213.0    1134 ST JOHN'S PLACE   \n",
       "4      1-2 Family Dwelling       10308.0     29 AINSWORTH AVENUE   \n",
       "\n",
       "         Street Name  Cross Street 1    Cross Street 2 Intersection Street 1  \\\n",
       "0  WILLOUGHBY AVENUE  CYPRESS AVENUE     SENECA AVENUE                   NaN   \n",
       "1  WASHINGTON AVENUE  ST JOHNS PLACE     LINCOLN PLACE                   NaN   \n",
       "2  WHITE PLAINS ROAD  O'BRIEN AVENUE  PATTERSON AVENUE                   NaN   \n",
       "3    ST JOHN'S PLACE   HAMPTON PLACE     ALBANY AVENUE                   NaN   \n",
       "4   AINSWORTH AVENUE      AMBOY ROAD   O'GORMAN AVENUE                   NaN   \n",
       "\n",
       "  Intersection Street 2 Address Type           City Landmark  Facility Type  \\\n",
       "0                   NaN      ADDRESS      Ridgewood      NaN            NaN   \n",
       "1                   NaN      ADDRESS       BROOKLYN      NaN            NaN   \n",
       "2                   NaN      ADDRESS          BRONX      NaN            NaN   \n",
       "3                   NaN      ADDRESS       BROOKLYN      NaN            NaN   \n",
       "4                   NaN      ADDRESS  STATEN ISLAND      NaN            NaN   \n",
       "\n",
       "   Status                Due Date Resolution Action Updated Date  \\\n",
       "0  Closed  06/22/2017 04:22:03 PM         06/01/2017 12:00:00 AM   \n",
       "1  Closed  06/22/2017 11:43:57 PM         07/06/2017 12:00:00 AM   \n",
       "2  Closed  04/24/2016 11:26:00 AM         04/05/2016 12:24:24 PM   \n",
       "3  Closed  03/02/2017 10:41:41 AM         02/06/2017 12:00:00 AM   \n",
       "4  Closed  09/10/2017 09:53:13 AM         09/15/2017 12:00:00 AM   \n",
       "\n",
       "        Community Board        Borough  X Coordinate (State Plane)  \\\n",
       "0             05 QUEENS         QUEENS                   1006773.0   \n",
       "1           08 BROOKLYN       BROOKLYN                    994534.0   \n",
       "2              09 BRONX          BRONX                   1024132.0   \n",
       "3  Unspecified BROOKLYN       BROOKLYN                   1000744.0   \n",
       "4      03 STATEN ISLAND  STATEN ISLAND                    945399.0   \n",
       "\n",
       "   Y Coordinate (State Plane) Park Facility Name   Park Borough  Vehicle Type  \\\n",
       "0                    197332.0        Unspecified         QUEENS           NaN   \n",
       "1                    184614.0        Unspecified       BROOKLYN           NaN   \n",
       "2                    235160.0        Unspecified          BRONX           NaN   \n",
       "3                    183780.0        Unspecified       BROOKLYN           NaN   \n",
       "4                    140951.0        Unspecified  STATEN ISLAND           NaN   \n",
       "\n",
       "   Taxi Company Borough  Taxi Pick Up Location  Bridge Highway Name  \\\n",
       "0                   NaN                    NaN                  NaN   \n",
       "1                   NaN                    NaN                  NaN   \n",
       "2                   NaN                    NaN                  NaN   \n",
       "3                   NaN                    NaN                  NaN   \n",
       "4                   NaN                    NaN                  NaN   \n",
       "\n",
       "   Bridge Highway Direction  Road Ramp  Bridge Highway Segment   Latitude  \\\n",
       "0                       NaN        NaN                     NaN  40.708279   \n",
       "1                       NaN        NaN                     NaN  40.673394   \n",
       "2                       NaN        NaN                     NaN  40.812046   \n",
       "3                       NaN        NaN                     NaN  40.671095   \n",
       "4                       NaN        NaN                     NaN  40.553469   \n",
       "\n",
       "   Longitude                                  Location  \n",
       "0 -73.918762   (40.70827884615599, -73.91876178147548)  \n",
       "1 -73.962926   (40.673393560937974, -73.9629260422388)  \n",
       "2 -73.855925   (40.81204563877927, -73.85592527378644)  \n",
       "3 -73.940541   (40.67109502635599, -73.94054095543362)  \n",
       "4 -74.139807  (40.553468530969305, -74.13980704201646)  "
      ]
     },
     "execution_count": 6,
     "metadata": {},
     "output_type": "execute_result"
    }
   ],
   "source": [
    "df.head()"
   ]
  },
  {
   "cell_type": "code",
   "execution_count": 7,
   "metadata": {},
   "outputs": [],
   "source": [
    "df['Year'] = df['Created Date'].str.replace('(.*/)', '', regex = True)\n",
    "df['Year'] = df['Year'].str.replace('( .*)', '', regex = True)\n",
    "df['Year'] = df['Year'].astype(int)"
   ]
  },
  {
   "cell_type": "code",
   "execution_count": 8,
   "metadata": {},
   "outputs": [],
   "source": [
    "df.to_csv(\"rats_cleaned.csv\", index=False)"
   ]
  },
  {
   "cell_type": "code",
   "execution_count": 9,
   "metadata": {},
   "outputs": [
    {
     "data": {
      "text/html": [
       "<div>\n",
       "<style scoped>\n",
       "    .dataframe tbody tr th:only-of-type {\n",
       "        vertical-align: middle;\n",
       "    }\n",
       "\n",
       "    .dataframe tbody tr th {\n",
       "        vertical-align: top;\n",
       "    }\n",
       "\n",
       "    .dataframe thead th {\n",
       "        text-align: right;\n",
       "    }\n",
       "</style>\n",
       "<table border=\"1\" class=\"dataframe\">\n",
       "  <thead>\n",
       "    <tr style=\"text-align: right;\">\n",
       "      <th></th>\n",
       "      <th>Unique Key</th>\n",
       "      <th>Created Date</th>\n",
       "      <th>Closed Date</th>\n",
       "      <th>Agency</th>\n",
       "      <th>Agency Name</th>\n",
       "      <th>Complaint Type</th>\n",
       "      <th>Descriptor</th>\n",
       "      <th>Location Type</th>\n",
       "      <th>Incident Zip</th>\n",
       "      <th>Incident Address</th>\n",
       "      <th>Street Name</th>\n",
       "      <th>Cross Street 1</th>\n",
       "      <th>Cross Street 2</th>\n",
       "      <th>Intersection Street 1</th>\n",
       "      <th>Intersection Street 2</th>\n",
       "      <th>Address Type</th>\n",
       "      <th>City</th>\n",
       "      <th>Landmark</th>\n",
       "      <th>Facility Type</th>\n",
       "      <th>Status</th>\n",
       "      <th>Due Date</th>\n",
       "      <th>Resolution Action Updated Date</th>\n",
       "      <th>Community Board</th>\n",
       "      <th>Borough</th>\n",
       "      <th>X Coordinate (State Plane)</th>\n",
       "      <th>Y Coordinate (State Plane)</th>\n",
       "      <th>Park Facility Name</th>\n",
       "      <th>Park Borough</th>\n",
       "      <th>Vehicle Type</th>\n",
       "      <th>Taxi Company Borough</th>\n",
       "      <th>Taxi Pick Up Location</th>\n",
       "      <th>Bridge Highway Name</th>\n",
       "      <th>Bridge Highway Direction</th>\n",
       "      <th>Road Ramp</th>\n",
       "      <th>Bridge Highway Segment</th>\n",
       "      <th>Latitude</th>\n",
       "      <th>Longitude</th>\n",
       "      <th>Location</th>\n",
       "      <th>Year</th>\n",
       "    </tr>\n",
       "  </thead>\n",
       "  <tbody>\n",
       "    <tr>\n",
       "      <th>0</th>\n",
       "      <td>36258648</td>\n",
       "      <td>05/23/2017 12:00:00 AM</td>\n",
       "      <td>06/01/2017 12:00:00 AM</td>\n",
       "      <td>DOHMH</td>\n",
       "      <td>Department of Health and Mental Hygiene</td>\n",
       "      <td>Rodent</td>\n",
       "      <td>Rat Sighting</td>\n",
       "      <td>3+ Family Apt. Building</td>\n",
       "      <td>11385.0</td>\n",
       "      <td>1737 WILLOUGHBY AVENUE</td>\n",
       "      <td>WILLOUGHBY AVENUE</td>\n",
       "      <td>CYPRESS AVENUE</td>\n",
       "      <td>SENECA AVENUE</td>\n",
       "      <td>NaN</td>\n",
       "      <td>NaN</td>\n",
       "      <td>ADDRESS</td>\n",
       "      <td>Ridgewood</td>\n",
       "      <td>NaN</td>\n",
       "      <td>NaN</td>\n",
       "      <td>Closed</td>\n",
       "      <td>06/22/2017 04:22:03 PM</td>\n",
       "      <td>06/01/2017 12:00:00 AM</td>\n",
       "      <td>05 QUEENS</td>\n",
       "      <td>QUEENS</td>\n",
       "      <td>1006773.0</td>\n",
       "      <td>197332.0</td>\n",
       "      <td>Unspecified</td>\n",
       "      <td>QUEENS</td>\n",
       "      <td>NaN</td>\n",
       "      <td>NaN</td>\n",
       "      <td>NaN</td>\n",
       "      <td>NaN</td>\n",
       "      <td>NaN</td>\n",
       "      <td>NaN</td>\n",
       "      <td>NaN</td>\n",
       "      <td>40.708279</td>\n",
       "      <td>-73.918762</td>\n",
       "      <td>(40.70827884615599, -73.91876178147548)</td>\n",
       "      <td>2017</td>\n",
       "    </tr>\n",
       "    <tr>\n",
       "      <th>1</th>\n",
       "      <td>36258650</td>\n",
       "      <td>05/23/2017 12:00:00 AM</td>\n",
       "      <td>07/06/2017 12:00:00 AM</td>\n",
       "      <td>DOHMH</td>\n",
       "      <td>Department of Health and Mental Hygiene</td>\n",
       "      <td>Rodent</td>\n",
       "      <td>Rat Sighting</td>\n",
       "      <td>Construction Site</td>\n",
       "      <td>11238.0</td>\n",
       "      <td>820 WASHINGTON AVENUE</td>\n",
       "      <td>WASHINGTON AVENUE</td>\n",
       "      <td>ST JOHNS PLACE</td>\n",
       "      <td>LINCOLN PLACE</td>\n",
       "      <td>NaN</td>\n",
       "      <td>NaN</td>\n",
       "      <td>ADDRESS</td>\n",
       "      <td>BROOKLYN</td>\n",
       "      <td>NaN</td>\n",
       "      <td>NaN</td>\n",
       "      <td>Closed</td>\n",
       "      <td>06/22/2017 11:43:57 PM</td>\n",
       "      <td>07/06/2017 12:00:00 AM</td>\n",
       "      <td>08 BROOKLYN</td>\n",
       "      <td>BROOKLYN</td>\n",
       "      <td>994534.0</td>\n",
       "      <td>184614.0</td>\n",
       "      <td>Unspecified</td>\n",
       "      <td>BROOKLYN</td>\n",
       "      <td>NaN</td>\n",
       "      <td>NaN</td>\n",
       "      <td>NaN</td>\n",
       "      <td>NaN</td>\n",
       "      <td>NaN</td>\n",
       "      <td>NaN</td>\n",
       "      <td>NaN</td>\n",
       "      <td>40.673394</td>\n",
       "      <td>-73.962926</td>\n",
       "      <td>(40.673393560937974, -73.9629260422388)</td>\n",
       "      <td>2017</td>\n",
       "    </tr>\n",
       "    <tr>\n",
       "      <th>2</th>\n",
       "      <td>32989859</td>\n",
       "      <td>03/25/2016 12:00:00 AM</td>\n",
       "      <td>04/05/2016 12:24:24 PM</td>\n",
       "      <td>DOHMH</td>\n",
       "      <td>Department of Health and Mental Hygiene</td>\n",
       "      <td>Rodent</td>\n",
       "      <td>Rat Sighting</td>\n",
       "      <td>Vacant Lot</td>\n",
       "      <td>10473.0</td>\n",
       "      <td>319 WHITE PLAINS ROAD</td>\n",
       "      <td>WHITE PLAINS ROAD</td>\n",
       "      <td>O'BRIEN AVENUE</td>\n",
       "      <td>PATTERSON AVENUE</td>\n",
       "      <td>NaN</td>\n",
       "      <td>NaN</td>\n",
       "      <td>ADDRESS</td>\n",
       "      <td>BRONX</td>\n",
       "      <td>NaN</td>\n",
       "      <td>NaN</td>\n",
       "      <td>Closed</td>\n",
       "      <td>04/24/2016 11:26:00 AM</td>\n",
       "      <td>04/05/2016 12:24:24 PM</td>\n",
       "      <td>09 BRONX</td>\n",
       "      <td>BRONX</td>\n",
       "      <td>1024132.0</td>\n",
       "      <td>235160.0</td>\n",
       "      <td>Unspecified</td>\n",
       "      <td>BRONX</td>\n",
       "      <td>NaN</td>\n",
       "      <td>NaN</td>\n",
       "      <td>NaN</td>\n",
       "      <td>NaN</td>\n",
       "      <td>NaN</td>\n",
       "      <td>NaN</td>\n",
       "      <td>NaN</td>\n",
       "      <td>40.812046</td>\n",
       "      <td>-73.855925</td>\n",
       "      <td>(40.81204563877927, -73.85592527378644)</td>\n",
       "      <td>2016</td>\n",
       "    </tr>\n",
       "    <tr>\n",
       "      <th>3</th>\n",
       "      <td>35383418</td>\n",
       "      <td>01/31/2017 12:00:00 AM</td>\n",
       "      <td>02/06/2017 12:00:00 AM</td>\n",
       "      <td>DOHMH</td>\n",
       "      <td>Department of Health and Mental Hygiene</td>\n",
       "      <td>Rodent</td>\n",
       "      <td>Rat Sighting</td>\n",
       "      <td>3+ Family Apt. Building</td>\n",
       "      <td>11213.0</td>\n",
       "      <td>1134 ST JOHN'S PLACE</td>\n",
       "      <td>ST JOHN'S PLACE</td>\n",
       "      <td>HAMPTON PLACE</td>\n",
       "      <td>ALBANY AVENUE</td>\n",
       "      <td>NaN</td>\n",
       "      <td>NaN</td>\n",
       "      <td>ADDRESS</td>\n",
       "      <td>BROOKLYN</td>\n",
       "      <td>NaN</td>\n",
       "      <td>NaN</td>\n",
       "      <td>Closed</td>\n",
       "      <td>03/02/2017 10:41:41 AM</td>\n",
       "      <td>02/06/2017 12:00:00 AM</td>\n",
       "      <td>Unspecified BROOKLYN</td>\n",
       "      <td>BROOKLYN</td>\n",
       "      <td>1000744.0</td>\n",
       "      <td>183780.0</td>\n",
       "      <td>Unspecified</td>\n",
       "      <td>BROOKLYN</td>\n",
       "      <td>NaN</td>\n",
       "      <td>NaN</td>\n",
       "      <td>NaN</td>\n",
       "      <td>NaN</td>\n",
       "      <td>NaN</td>\n",
       "      <td>NaN</td>\n",
       "      <td>NaN</td>\n",
       "      <td>40.671095</td>\n",
       "      <td>-73.940541</td>\n",
       "      <td>(40.67109502635599, -73.94054095543362)</td>\n",
       "      <td>2017</td>\n",
       "    </tr>\n",
       "    <tr>\n",
       "      <th>4</th>\n",
       "      <td>36923956</td>\n",
       "      <td>08/11/2017 12:00:00 AM</td>\n",
       "      <td>09/15/2017 12:00:00 AM</td>\n",
       "      <td>DOHMH</td>\n",
       "      <td>Department of Health and Mental Hygiene</td>\n",
       "      <td>Rodent</td>\n",
       "      <td>Rat Sighting</td>\n",
       "      <td>1-2 Family Dwelling</td>\n",
       "      <td>10308.0</td>\n",
       "      <td>29 AINSWORTH AVENUE</td>\n",
       "      <td>AINSWORTH AVENUE</td>\n",
       "      <td>AMBOY ROAD</td>\n",
       "      <td>O'GORMAN AVENUE</td>\n",
       "      <td>NaN</td>\n",
       "      <td>NaN</td>\n",
       "      <td>ADDRESS</td>\n",
       "      <td>STATEN ISLAND</td>\n",
       "      <td>NaN</td>\n",
       "      <td>NaN</td>\n",
       "      <td>Closed</td>\n",
       "      <td>09/10/2017 09:53:13 AM</td>\n",
       "      <td>09/15/2017 12:00:00 AM</td>\n",
       "      <td>03 STATEN ISLAND</td>\n",
       "      <td>STATEN ISLAND</td>\n",
       "      <td>945399.0</td>\n",
       "      <td>140951.0</td>\n",
       "      <td>Unspecified</td>\n",
       "      <td>STATEN ISLAND</td>\n",
       "      <td>NaN</td>\n",
       "      <td>NaN</td>\n",
       "      <td>NaN</td>\n",
       "      <td>NaN</td>\n",
       "      <td>NaN</td>\n",
       "      <td>NaN</td>\n",
       "      <td>NaN</td>\n",
       "      <td>40.553469</td>\n",
       "      <td>-74.139807</td>\n",
       "      <td>(40.553468530969305, -74.13980704201646)</td>\n",
       "      <td>2017</td>\n",
       "    </tr>\n",
       "  </tbody>\n",
       "</table>\n",
       "</div>"
      ],
      "text/plain": [
       "   Unique Key            Created Date             Closed Date Agency  \\\n",
       "0    36258648  05/23/2017 12:00:00 AM  06/01/2017 12:00:00 AM  DOHMH   \n",
       "1    36258650  05/23/2017 12:00:00 AM  07/06/2017 12:00:00 AM  DOHMH   \n",
       "2    32989859  03/25/2016 12:00:00 AM  04/05/2016 12:24:24 PM  DOHMH   \n",
       "3    35383418  01/31/2017 12:00:00 AM  02/06/2017 12:00:00 AM  DOHMH   \n",
       "4    36923956  08/11/2017 12:00:00 AM  09/15/2017 12:00:00 AM  DOHMH   \n",
       "\n",
       "                               Agency Name Complaint Type    Descriptor  \\\n",
       "0  Department of Health and Mental Hygiene         Rodent  Rat Sighting   \n",
       "1  Department of Health and Mental Hygiene         Rodent  Rat Sighting   \n",
       "2  Department of Health and Mental Hygiene         Rodent  Rat Sighting   \n",
       "3  Department of Health and Mental Hygiene         Rodent  Rat Sighting   \n",
       "4  Department of Health and Mental Hygiene         Rodent  Rat Sighting   \n",
       "\n",
       "             Location Type  Incident Zip        Incident Address  \\\n",
       "0  3+ Family Apt. Building       11385.0  1737 WILLOUGHBY AVENUE   \n",
       "1        Construction Site       11238.0   820 WASHINGTON AVENUE   \n",
       "2               Vacant Lot       10473.0   319 WHITE PLAINS ROAD   \n",
       "3  3+ Family Apt. Building       11213.0    1134 ST JOHN'S PLACE   \n",
       "4      1-2 Family Dwelling       10308.0     29 AINSWORTH AVENUE   \n",
       "\n",
       "         Street Name  Cross Street 1    Cross Street 2 Intersection Street 1  \\\n",
       "0  WILLOUGHBY AVENUE  CYPRESS AVENUE     SENECA AVENUE                   NaN   \n",
       "1  WASHINGTON AVENUE  ST JOHNS PLACE     LINCOLN PLACE                   NaN   \n",
       "2  WHITE PLAINS ROAD  O'BRIEN AVENUE  PATTERSON AVENUE                   NaN   \n",
       "3    ST JOHN'S PLACE   HAMPTON PLACE     ALBANY AVENUE                   NaN   \n",
       "4   AINSWORTH AVENUE      AMBOY ROAD   O'GORMAN AVENUE                   NaN   \n",
       "\n",
       "  Intersection Street 2 Address Type           City Landmark  Facility Type  \\\n",
       "0                   NaN      ADDRESS      Ridgewood      NaN            NaN   \n",
       "1                   NaN      ADDRESS       BROOKLYN      NaN            NaN   \n",
       "2                   NaN      ADDRESS          BRONX      NaN            NaN   \n",
       "3                   NaN      ADDRESS       BROOKLYN      NaN            NaN   \n",
       "4                   NaN      ADDRESS  STATEN ISLAND      NaN            NaN   \n",
       "\n",
       "   Status                Due Date Resolution Action Updated Date  \\\n",
       "0  Closed  06/22/2017 04:22:03 PM         06/01/2017 12:00:00 AM   \n",
       "1  Closed  06/22/2017 11:43:57 PM         07/06/2017 12:00:00 AM   \n",
       "2  Closed  04/24/2016 11:26:00 AM         04/05/2016 12:24:24 PM   \n",
       "3  Closed  03/02/2017 10:41:41 AM         02/06/2017 12:00:00 AM   \n",
       "4  Closed  09/10/2017 09:53:13 AM         09/15/2017 12:00:00 AM   \n",
       "\n",
       "        Community Board        Borough  X Coordinate (State Plane)  \\\n",
       "0             05 QUEENS         QUEENS                   1006773.0   \n",
       "1           08 BROOKLYN       BROOKLYN                    994534.0   \n",
       "2              09 BRONX          BRONX                   1024132.0   \n",
       "3  Unspecified BROOKLYN       BROOKLYN                   1000744.0   \n",
       "4      03 STATEN ISLAND  STATEN ISLAND                    945399.0   \n",
       "\n",
       "   Y Coordinate (State Plane) Park Facility Name   Park Borough  Vehicle Type  \\\n",
       "0                    197332.0        Unspecified         QUEENS           NaN   \n",
       "1                    184614.0        Unspecified       BROOKLYN           NaN   \n",
       "2                    235160.0        Unspecified          BRONX           NaN   \n",
       "3                    183780.0        Unspecified       BROOKLYN           NaN   \n",
       "4                    140951.0        Unspecified  STATEN ISLAND           NaN   \n",
       "\n",
       "   Taxi Company Borough  Taxi Pick Up Location  Bridge Highway Name  \\\n",
       "0                   NaN                    NaN                  NaN   \n",
       "1                   NaN                    NaN                  NaN   \n",
       "2                   NaN                    NaN                  NaN   \n",
       "3                   NaN                    NaN                  NaN   \n",
       "4                   NaN                    NaN                  NaN   \n",
       "\n",
       "   Bridge Highway Direction  Road Ramp  Bridge Highway Segment   Latitude  \\\n",
       "0                       NaN        NaN                     NaN  40.708279   \n",
       "1                       NaN        NaN                     NaN  40.673394   \n",
       "2                       NaN        NaN                     NaN  40.812046   \n",
       "3                       NaN        NaN                     NaN  40.671095   \n",
       "4                       NaN        NaN                     NaN  40.553469   \n",
       "\n",
       "   Longitude                                  Location  Year  \n",
       "0 -73.918762   (40.70827884615599, -73.91876178147548)  2017  \n",
       "1 -73.962926   (40.673393560937974, -73.9629260422388)  2017  \n",
       "2 -73.855925   (40.81204563877927, -73.85592527378644)  2016  \n",
       "3 -73.940541   (40.67109502635599, -73.94054095543362)  2017  \n",
       "4 -74.139807  (40.553468530969305, -74.13980704201646)  2017  "
      ]
     },
     "execution_count": 9,
     "metadata": {},
     "output_type": "execute_result"
    }
   ],
   "source": [
    "df.head()"
   ]
  },
  {
   "cell_type": "markdown",
   "metadata": {},
   "source": [
    "## Charts"
   ]
  },
  {
   "cell_type": "code",
   "execution_count": 10,
   "metadata": {},
   "outputs": [],
   "source": [
    "df_2010 = df[df['Year'] == 2010]\n",
    "df_2011 = df[df['Year'] == 2011]\n",
    "df_2012 = df[df['Year'] == 2012]\n",
    "df_2013 = df[df['Year'] == 2013]\n",
    "df_2014 = df[df['Year'] == 2014]\n",
    "df_2015 = df[df['Year'] == 2015]\n",
    "df_2016 = df[df['Year'] == 2016]\n",
    "df_2017 = df[df['Year'] == 2017]\n",
    "df_2018 = df[df['Year'] == 2018]"
   ]
  },
  {
   "cell_type": "code",
   "execution_count": 53,
   "metadata": {},
   "outputs": [
    {
     "data": {
      "text/plain": [
       "Rat Sighting    10534\n",
       "Name: Descriptor, dtype: int64"
      ]
     },
     "execution_count": 53,
     "metadata": {},
     "output_type": "execute_result"
    }
   ],
   "source": [
    "df_2010.Descriptor.value_counts()"
   ]
  },
  {
   "cell_type": "code",
   "execution_count": 48,
   "metadata": {},
   "outputs": [
    {
     "data": {
      "image/png": "[encoded data removed]",
      "text/plain": [
       "<Figure size 1296x432 with 1 Axes>"
      ]
     },
     "metadata": {
      "needs_background": "light"
     },
     "output_type": "display_data"
    }
   ],
   "source": [
    "ax = df_2010.Borough.value_counts().plot(\n",
    "           figsize=(18, 6),\n",
    "           title=\"Number of Rats in Each Borough in 2010\",\n",
    "           color=\"#5EAE9B\")\n",
    "for axis in ax.spines:\n",
    "    ax.spines[axis].set_visible(False)\n",
    "    \n",
    "plt.ylim([0, 7000])\n",
    "\n",
    "plt.tight_layout()\n",
    "plt.savefig(\"2010.pdf\")"
   ]
  },
  {
   "cell_type": "code",
   "execution_count": 54,
   "metadata": {},
   "outputs": [
    {
     "data": {
      "text/plain": [
       "Rat Sighting    10454\n",
       "Name: Descriptor, dtype: int64"
      ]
     },
     "execution_count": 54,
     "metadata": {},
     "output_type": "execute_result"
    }
   ],
   "source": [
    "df_2011.Descriptor.value_counts()"
   ]
  },
  {
   "cell_type": "code",
   "execution_count": 47,
   "metadata": {},
   "outputs": [
    {
     "data": {
      "image/png": "[encoded data removed]",
      "text/plain": [
       "<Figure size 1296x432 with 1 Axes>"
      ]
     },
     "metadata": {
      "needs_background": "light"
     },
     "output_type": "display_data"
    }
   ],
   "source": [
    "ax = df_2011.Borough.value_counts().plot(\n",
    "           figsize=(18, 6),\n",
    "           title=\"Number of Rats in Each Borough in 2011\",\n",
    "           color=\"#5EAE9B\")\n",
    "for axis in ax.spines:\n",
    "    ax.spines[axis].set_visible(False)\n",
    "\n",
    "plt.ylim([0, 7000])\n",
    "\n",
    "plt.tight_layout()\n",
    "plt.savefig(\"2011.pdf\")"
   ]
  },
  {
   "cell_type": "code",
   "execution_count": 55,
   "metadata": {},
   "outputs": [
    {
     "data": {
      "text/plain": [
       "Rat Sighting    10642\n",
       "Name: Descriptor, dtype: int64"
      ]
     },
     "execution_count": 55,
     "metadata": {},
     "output_type": "execute_result"
    }
   ],
   "source": [
    "df_2012.Descriptor.value_counts()"
   ]
  },
  {
   "cell_type": "code",
   "execution_count": 49,
   "metadata": {},
   "outputs": [],
   "source": [
    "df_2012 = df_2012[df_2012['Borough'] != 'Unspecified']"
   ]
  },
  {
   "cell_type": "code",
   "execution_count": 50,
   "metadata": {},
   "outputs": [
    {
     "data": {
      "image/png": "[encoded data removed]",
      "text/plain": [
       "<Figure size 1296x432 with 1 Axes>"
      ]
     },
     "metadata": {
      "needs_background": "light"
     },
     "output_type": "display_data"
    }
   ],
   "source": [
    "ax = df_2012.Borough.value_counts().plot(\n",
    "           figsize=(18, 6),\n",
    "           title=\"Number of Rats in Each Borough in 2012\",\n",
    "           color=\"#5EAE9B\")\n",
    "for axis in ax.spines:\n",
    "    ax.spines[axis].set_visible(False)\n",
    "    \n",
    "plt.ylim([0, 7000])\n",
    "\n",
    "plt.tight_layout()\n",
    "plt.savefig(\"2012.pdf\")"
   ]
  },
  {
   "cell_type": "code",
   "execution_count": 56,
   "metadata": {},
   "outputs": [
    {
     "data": {
      "text/plain": [
       "Rat Sighting    10739\n",
       "Name: Descriptor, dtype: int64"
      ]
     },
     "execution_count": 56,
     "metadata": {},
     "output_type": "execute_result"
    }
   ],
   "source": [
    "df_2013.Descriptor.value_counts()"
   ]
  },
  {
   "cell_type": "code",
   "execution_count": 45,
   "metadata": {},
   "outputs": [
    {
     "data": {
      "image/png": "[encoded data removed]",
      "text/plain": [
       "<Figure size 1296x432 with 1 Axes>"
      ]
     },
     "metadata": {
      "needs_background": "light"
     },
     "output_type": "display_data"
    }
   ],
   "source": [
    "ax = df_2013.Borough.value_counts().plot(\n",
    "           figsize=(18, 6),\n",
    "           title=\"Number of Rats in Each Borough in 2013\",\n",
    "           color=\"#5EAE9B\")\n",
    "for axis in ax.spines:\n",
    "    ax.spines[axis].set_visible(False)\n",
    "    \n",
    "plt.ylim([0, 7000])\n",
    "\n",
    "plt.tight_layout()\n",
    "plt.savefig(\"2013.pdf\")"
   ]
  },
  {
   "cell_type": "code",
   "execution_count": 57,
   "metadata": {},
   "outputs": [
    {
     "data": {
      "text/plain": [
       "Rat Sighting    12617\n",
       "Name: Descriptor, dtype: int64"
      ]
     },
     "execution_count": 57,
     "metadata": {},
     "output_type": "execute_result"
    }
   ],
   "source": [
    "df_2014.Descriptor.value_counts()"
   ]
  },
  {
   "cell_type": "code",
   "execution_count": 44,
   "metadata": {},
   "outputs": [
    {
     "data": {
      "image/png": "[encoded data removed]",
      "text/plain": [
       "<Figure size 1296x432 with 1 Axes>"
      ]
     },
     "metadata": {
      "needs_background": "light"
     },
     "output_type": "display_data"
    }
   ],
   "source": [
    "ax = df_2014.Borough.value_counts().plot(\n",
    "           figsize=(18, 6),\n",
    "           title=\"Number of Rats in Each Borough in 2014\",\n",
    "           color=\"#5EAE9B\")\n",
    "for axis in ax.spines:\n",
    "    ax.spines[axis].set_visible(False)\n",
    "    \n",
    "plt.ylim([0, 7000])\n",
    "\n",
    "plt.tight_layout()\n",
    "plt.savefig(\"2014.pdf\")"
   ]
  },
  {
   "cell_type": "code",
   "execution_count": 58,
   "metadata": {},
   "outputs": [
    {
     "data": {
      "text/plain": [
       "Rat Sighting    15286\n",
       "Name: Descriptor, dtype: int64"
      ]
     },
     "execution_count": 58,
     "metadata": {},
     "output_type": "execute_result"
    }
   ],
   "source": [
    "df_2015.Descriptor.value_counts()"
   ]
  },
  {
   "cell_type": "code",
   "execution_count": 43,
   "metadata": {},
   "outputs": [
    {
     "data": {
      "image/png": "[encoded data removed]",
      "text/plain": [
       "<Figure size 1296x432 with 1 Axes>"
      ]
     },
     "metadata": {
      "needs_background": "light"
     },
     "output_type": "display_data"
    }
   ],
   "source": [
    "ax = df_2015.Borough.value_counts().plot(\n",
    "           figsize=(18, 6),\n",
    "           title=\"Number of Rats in Each Borough in 2015\",\n",
    "           color=\"#5EAE9B\")\n",
    "for axis in ax.spines:\n",
    "    ax.spines[axis].set_visible(False)\n",
    "    \n",
    "plt.ylim([0, 7000])\n",
    "\n",
    "plt.tight_layout()\n",
    "plt.savefig(\"2015.pdf\")"
   ]
  },
  {
   "cell_type": "code",
   "execution_count": 59,
   "metadata": {},
   "outputs": [
    {
     "data": {
      "text/plain": [
       "Rat Sighting    17230\n",
       "Name: Descriptor, dtype: int64"
      ]
     },
     "execution_count": 59,
     "metadata": {},
     "output_type": "execute_result"
    }
   ],
   "source": [
    "df_2016.Descriptor.value_counts()"
   ]
  },
  {
   "cell_type": "code",
   "execution_count": 42,
   "metadata": {},
   "outputs": [
    {
     "data": {
      "image/png": "[encoded data removed]",
      "text/plain": [
       "<Figure size 1296x432 with 1 Axes>"
      ]
     },
     "metadata": {
      "needs_background": "light"
     },
     "output_type": "display_data"
    }
   ],
   "source": [
    "ax = df_2016.Borough.value_counts().plot(\n",
    "           figsize=(18, 6),\n",
    "           title=\"Number of Rats in Each Borough in 2016\",\n",
    "           color=\"#5EAE9B\")\n",
    "for axis in ax.spines:\n",
    "    ax.spines[axis].set_visible(False)\n",
    "    \n",
    "plt.ylim([0, 7000])\n",
    "\n",
    "plt.tight_layout()\n",
    "plt.savefig(\"2016.pdf\")"
   ]
  },
  {
   "cell_type": "code",
   "execution_count": 60,
   "metadata": {},
   "outputs": [
    {
     "data": {
      "text/plain": [
       "Rat Sighting    19152\n",
       "Name: Descriptor, dtype: int64"
      ]
     },
     "execution_count": 60,
     "metadata": {},
     "output_type": "execute_result"
    }
   ],
   "source": [
    "df_2017.Descriptor.value_counts()"
   ]
  },
  {
   "cell_type": "code",
   "execution_count": 41,
   "metadata": {},
   "outputs": [
    {
     "data": {
      "image/png": "[encoded data removed]",
      "text/plain": [
       "<Figure size 1296x432 with 1 Axes>"
      ]
     },
     "metadata": {
      "needs_background": "light"
     },
     "output_type": "display_data"
    }
   ],
   "source": [
    "ax = df_2017.Borough.value_counts().plot(\n",
    "           figsize=(18, 6),\n",
    "           title=\"Number of Rats in Each Borough in 2017\",\n",
    "           color=\"#5EAE9B\")\n",
    "for axis in ax.spines:\n",
    "    ax.spines[axis].set_visible(False)\n",
    "    \n",
    "plt.ylim([0, 7000])\n",
    "\n",
    "plt.tight_layout()\n",
    "plt.savefig(\"2017.pdf\")"
   ]
  },
  {
   "cell_type": "code",
   "execution_count": 25,
   "metadata": {},
   "outputs": [],
   "source": [
    "df_2018 = df_2018[df_2018['Borough'] != 'Unspecified']"
   ]
  },
  {
   "cell_type": "code",
   "execution_count": 63,
   "metadata": {},
   "outputs": [
    {
     "data": {
      "text/plain": [
       "Rat Sighting    17344\n",
       "Name: Descriptor, dtype: int64"
      ]
     },
     "execution_count": 63,
     "metadata": {},
     "output_type": "execute_result"
    }
   ],
   "source": [
    "df_2018.Descriptor.value_counts()"
   ]
  },
  {
   "cell_type": "code",
   "execution_count": 61,
   "metadata": {},
   "outputs": [
    {
     "data": {
      "text/plain": [
       "BROOKLYN         6565\n",
       "MANHATTAN        4295\n",
       "BRONX            3134\n",
       "QUEENS           2605\n",
       "STATEN ISLAND     745\n",
       "Name: Borough, dtype: int64"
      ]
     },
     "execution_count": 61,
     "metadata": {},
     "output_type": "execute_result"
    }
   ],
   "source": [
    "df_2018.Borough.value_counts()"
   ]
  },
  {
   "cell_type": "code",
   "execution_count": 40,
   "metadata": {},
   "outputs": [
    {
     "data": {
      "image/png": "[encoded data removed]",
      "text/plain": [
       "<Figure size 1296x432 with 1 Axes>"
      ]
     },
     "metadata": {
      "needs_background": "light"
     },
     "output_type": "display_data"
    }
   ],
   "source": [
    "ax = df_2018.Borough.value_counts().plot(\n",
    "           figsize=(18, 6),\n",
    "           title=\"Number of Rats in Each Borough in 2018\",\n",
    "           color=\"#5EAE9B\")\n",
    "for axis in ax.spines:\n",
    "    ax.spines[axis].set_visible(False)\n",
    "    \n",
    "plt.ylim([0, 7000])\n",
    "\n",
    "plt.tight_layout()\n",
    "plt.savefig(\"2018.pdf\")"
   ]
  },
  {
   "cell_type": "code",
   "execution_count": null,
   "metadata": {},
   "outputs": [],
   "source": []
  }
 ],
 "metadata": {
  "kernelspec": {
   "display_name": "Python 3",
   "language": "python",
   "name": "python3"
  },
  "language_info": {
   "codemirror_mode": {
    "name": "ipython",
    "version": 3
   },
   "file_extension": ".py",
   "mimetype": "text/x-python",
   "name": "python",
   "nbconvert_exporter": "python",
   "pygments_lexer": "ipython3",
   "version": "3.7.1"
  }
 },
 "nbformat": 4,
 "nbformat_minor": 2
}
