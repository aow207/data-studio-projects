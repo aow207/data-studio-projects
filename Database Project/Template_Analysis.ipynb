{
 "cells": [
  {
   "cell_type": "markdown",
   "metadata": {},
   "source": [
    "# _PublicationName\n",
    "\n",
    "- Sample Size: 300 - 320 random users\n",
    "\n",
    "### Twitter Audit Stats _As of June 29, 2019_\n",
    "- Fake% | Real Followers | Fake Followers\n",
    "- ##%\t| ##,###\t | ##,###"
   ]
  },
  {
   "cell_type": "markdown",
   "metadata": {},
   "source": [
    "# Import "
   ]
  },
  {
   "cell_type": "code",
   "execution_count": 2,
   "metadata": {},
   "outputs": [],
   "source": [
    "import matplotlib\n",
    "%matplotlib inline\n",
    "\n",
    "from dotenv import load_dotenv\n",
    "load_dotenv()\n",
    "\n",
    "import os\n",
    "import requests\n",
    "\n",
    "import json\n",
    "from pprint import pprint\n",
    "\n",
    "from bs4 import BeautifulSoup\n",
    "import pandas as pd"
   ]
  },
  {
   "cell_type": "markdown",
   "metadata": {},
   "source": [
    "# Opening Botometer JSON File"
   ]
  },
  {
   "cell_type": "code",
   "execution_count": null,
   "metadata": {},
   "outputs": [],
   "source": [
    "#Open JSON File\n",
    "with open('file.json') as f:\n",
    "    data = json.load(f)\n",
    "pprint(data)"
   ]
  },
  {
   "cell_type": "code",
   "execution_count": 1,
   "metadata": {},
   "outputs": [],
   "source": [
    "#List of all bots usernames\n",
    "for bot in data:\n",
    "    if bot['cap']['universal'] > 0.2: #greater than 2\n",
    "        print(bot['user']['screen_name'])"
   ]
  },
  {
   "cell_type": "code",
   "execution_count": 2,
   "metadata": {},
   "outputs": [],
   "source": [
    "#Links\n",
    "# for bot in data:\n",
    "#     if bot['cap']['universal'] > 0.2: #greater than 2\n",
    "#         username = bot['user']['screen_name']\n",
    "#         print(f\"https://twitter.com/{username}\")"
   ]
  },
  {
   "cell_type": "markdown",
   "metadata": {},
   "source": [
    "# BeautifulSoup Sraping (Twitter Variables)"
   ]
  },
  {
   "cell_type": "code",
   "execution_count": null,
   "metadata": {},
   "outputs": [],
   "source": [
    "# # TESTING SECTION\n",
    "# url = \"https://twitter.com/...user...\"\n",
    "# print(\"Now scraping\", url)\n",
    "\n",
    "# #The page\n",
    "# response = requests.get(url)\n",
    "# doc = BeautifulSoup(response.text)\n",
    "# print(doc)"
   ]
  },
  {
   "cell_type": "code",
   "execution_count": null,
   "metadata": {},
   "outputs": [],
   "source": [
    "# Username\n",
    "print(doc.find(class_=\"u-linkComplex-target\").text.strip())\n",
    "\n",
    "# Location\n",
    "print(doc.find(attrs={'data-place-id': True}).text.strip())\n",
    "\n",
    "# Date Joined\n",
    "print(doc.find(class_=\"ProfileHeaderCard-joinDateText\").text.strip())\n",
    "\n",
    "# Biography\n",
    "print(doc.find('title').findNext('meta').findNext('meta')['content'])\n",
    "\n",
    "# Following\n",
    "print(doc.find(class_=\"ProfileNav-item--following\").findNext(class_=\"ProfileNav-value\").text.strip())\n",
    "\n",
    "# Followers\n",
    "print(doc.find(class_=\"ProfileNav-item--followers\").findNext(class_=\"ProfileNav-value\").text.strip())"
   ]
  },
  {
   "cell_type": "markdown",
   "metadata": {},
   "source": [
    "# Building the DataFrame"
   ]
  },
  {
   "cell_type": "code",
   "execution_count": null,
   "metadata": {
    "scrolled": true
   },
   "outputs": [],
   "source": [
    "rows = []\n",
    "\n",
    "for bot in data:\n",
    "    if bot['cap']['universal'] > 0.2:\n",
    "        username = bot['user']['screen_name']        \n",
    "        url = f\"https://twitter.com/{username}\"\n",
    "        print(\"Now scraping:\", url)\n",
    "\n",
    "        #Download each page\n",
    "        response = requests.get(url)\n",
    "        doc = BeautifulSoup(response.text)\n",
    "\n",
    "        #Scraping\n",
    "        row = {}\n",
    "        try:\n",
    "            row['Username'] = doc.find(class_=\"u-linkComplex-target\").text.strip()\n",
    "        except:\n",
    "            pass\n",
    "        try:\n",
    "            row['Location'] = doc.find(attrs={'data-place-id': True}).text.strip()\n",
    "        except:\n",
    "            pass\n",
    "        try:\n",
    "            row['Join_Date'] = doc.find(class_=\"ProfileHeaderCard-joinDateText\").text.strip()\n",
    "        except:\n",
    "            pass\n",
    "        try:\n",
    "            row[\"Bio\"] = doc.find('title').findNext('meta').findNext('meta')['content']\n",
    "        except:\n",
    "            pass\n",
    "        try:\n",
    "            row['Following'] = doc.find(class_=\"ProfileNav-item--following\").findNext(class_=\"ProfileNav-value\").text.strip()\n",
    "        except:\n",
    "            pass\n",
    "        try:\n",
    "            row['Followers'] = doc.find(class_=\"ProfileNav-item--followers\").findNext(class_=\"ProfileNav-value\").text.strip()\n",
    "        except:\n",
    "            pass\n",
    "        row['Link'] = url\n",
    "        rows.append(row)\n",
    "\n",
    "print(\"Building DataFrame\")\n",
    "df = pd.DataFrame(rows)\n",
    "df.head()"
   ]
  },
  {
   "cell_type": "markdown",
   "metadata": {},
   "source": [
    "# Cleaning Data"
   ]
  },
  {
   "cell_type": "code",
   "execution_count": 7,
   "metadata": {},
   "outputs": [],
   "source": [
    "df['Join_Date'] = df['Join_Date'].str.replace('(Joined )', '', regex = True)\n",
    "df['Bio'] = df['Bio'].str.replace('(.* from)', '', regex = True)\n",
    "df['Followers'].fillna(0, inplace=True)\n",
    "df['Following'].fillna(0, inplace=True)\n",
    "#set(df['Bio'])\n",
    "df"
   ]
  },
  {
   "cell_type": "code",
   "execution_count": 10,
   "metadata": {},
   "outputs": [],
   "source": [
    "df.to_csv(\"_Publication.csv\", index=False)"
   ]
  },
  {
   "cell_type": "code",
   "execution_count": null,
   "metadata": {},
   "outputs": [],
   "source": []
  }
 ],
 "metadata": {
  "kernelspec": {
   "display_name": "Python 3",
   "language": "python",
   "name": "python3"
  },
  "language_info": {
   "codemirror_mode": {
    "name": "ipython",
    "version": 3
   },
   "file_extension": ".py",
   "mimetype": "text/x-python",
   "name": "python",
   "nbconvert_exporter": "python",
   "pygments_lexer": "ipython3",
   "version": "3.6.8"
  }
 },
 "nbformat": 4,
 "nbformat_minor": 2
}
