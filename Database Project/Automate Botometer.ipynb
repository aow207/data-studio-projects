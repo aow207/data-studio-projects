{
 "cells": [
  {
   "cell_type": "markdown",
   "metadata": {},
   "source": [
    "# Automating Scraping"
   ]
  },
  {
   "cell_type": "code",
   "execution_count": 3,
   "metadata": {},
   "outputs": [],
   "source": [
    "from selenium import webdriver"
   ]
  },
  {
   "cell_type": "code",
   "execution_count": 4,
   "metadata": {},
   "outputs": [],
   "source": [
    "driver = webdriver.Chrome()\n",
    "driver.get(\"https://botometer.iuni.iu.edu/#!/\")\n",
    "\n",
    "username = \"Verge\" #test publication\n",
    "inputElement = driver.find_element_by_css_selector(\"#inputSN\")\n",
    "inputElement.send_keys(username)\n",
    "\n",
    "check_followers = driver.find_element_by_css_selector(\"#user-adder > form > button:nth-child(3)\")\n",
    "check_followers.click()\n",
    "\n",
    "window_before = driver.current_window_handle"
   ]
  },
  {
   "cell_type": "code",
   "execution_count": 5,
   "metadata": {},
   "outputs": [],
   "source": [
    "window_after = driver.window_handles[1]\n",
    "driver.switch_to.window(window_after)\n",
    "\n",
    "username = \"\" #Twitter username here\n",
    "password = \"\" #Twitter password here\n",
    "\n",
    "username_input = driver.find_element_by_css_selector(\"#username_or_email\")\n",
    "username_input.send_keys(username)\n",
    "\n",
    "pass_input = driver.find_element_by_css_selector(\"#password\")\n",
    "pass_input.send_keys(password)\n",
    "\n",
    "login = driver.find_element_by_css_selector(\"#allow\")\n",
    "login.click()\n",
    "driver.switch_to.window(window_before)"
   ]
  },
  {
   "cell_type": "code",
   "execution_count": 6,
   "metadata": {},
   "outputs": [],
   "source": [
    "inputElement.clear()\n",
    "publications = ['ign'] #list of usernames here\n",
    "driver.refresh()"
   ]
  },
  {
   "cell_type": "code",
   "execution_count": 7,
   "metadata": {},
   "outputs": [
    {
     "name": "stdout",
     "output_type": "stream",
     "text": [
      "Finding: ign bots\n",
      "Sleeping for 20 minutes...\n",
      "Sleeping for 10 minutes...\n",
      "Downloaded: ign bots JSON file\n",
      "Sleeping for 20 minutes...\n",
      "Refreshing page\n"
     ]
    }
   ],
   "source": [
    "import time\n",
    "driver.refresh()\n",
    "for pub in publications:\n",
    "    username = pub\n",
    "    inputElement = driver.find_element_by_css_selector(\"#inputSN\")\n",
    "    inputElement.send_keys(username)\n",
    "    print(\"Finding:\", username, \"bots\")\n",
    "    check_followers = driver.find_element_by_css_selector(\"#user-adder > form > button:nth-child(3)\")\n",
    "    \n",
    "    #Click 8 times\n",
    "    for i in range(8):\n",
    "        time.sleep(3)\n",
    "        check_followers.click()\n",
    "        \n",
    "    print(\"Sleeping for 20 minutes...\")    \n",
    "    time.sleep(1200)\n",
    "    \n",
    "    #Click 8 times\n",
    "    for i in range(8):\n",
    "        time.sleep(3)\n",
    "        check_followers.click()\n",
    "        \n",
    "    print(\"Sleeping for 10 minutes...\")    \n",
    "    time.sleep(600)\n",
    "    \n",
    "    download = driver.find_element_by_xpath(\"/html/body/div/div/div[6]/div/a[2]\")\n",
    "    download.click()\n",
    "    print(\"Downloaded:\", username, \"bots JSON file\")\n",
    "    \n",
    "    print(\"Sleeping for 20 minutes...\")\n",
    "    time.sleep(1200)\n",
    "    inputElement.clear()\n",
    "    \n",
    "    print(\"Refreshing page\")\n",
    "    driver.refresh()\n",
    "    "
   ]
  },
  {
   "cell_type": "code",
   "execution_count": null,
   "metadata": {},
   "outputs": [],
   "source": []
  },
  {
   "cell_type": "code",
   "execution_count": null,
   "metadata": {},
   "outputs": [],
   "source": []
  }
 ],
 "metadata": {
  "kernelspec": {
   "display_name": "Python 3",
   "language": "python",
   "name": "python3"
  },
  "language_info": {
   "codemirror_mode": {
    "name": "ipython",
    "version": 3
   },
   "file_extension": ".py",
   "mimetype": "text/x-python",
   "name": "python",
   "nbconvert_exporter": "python",
   "pygments_lexer": "ipython3",
   "version": "3.6.8"
  }
 },
 "nbformat": 4,
 "nbformat_minor": 2
}
