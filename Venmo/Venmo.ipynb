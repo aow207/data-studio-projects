{
 "cells": [
  {
   "cell_type": "markdown",
   "metadata": {},
   "source": [
    "# Venmo Analysis\n",
    "- Dataset from: https://github.com/sa7mon/venmo-data"
   ]
  },
  {
   "cell_type": "markdown",
   "metadata": {},
   "source": [
    "# Import "
   ]
  },
  {
   "cell_type": "code",
   "execution_count": 13,
   "metadata": {},
   "outputs": [],
   "source": [
    "import matplotlib\n",
    "%matplotlib inline\n",
    "\n",
    "import os\n",
    "import requests\n",
    "\n",
    "import json\n",
    "from pprint import pprint\n",
    "\n",
    "from bs4 import BeautifulSoup\n",
    "import pandas as pd\n",
    "\n",
    "import re\n",
    "import numpy as np\n",
    "import datetime\n",
    "from pymongo import MongoClient\n"
   ]
  },
  {
   "cell_type": "markdown",
   "metadata": {},
   "source": [
    "# Opening Files in PyMongo"
   ]
  },
  {
   "cell_type": "code",
   "execution_count": 4,
   "metadata": {},
   "outputs": [],
   "source": [
    "client = MongoClient('mongodb://127.0.0.1:27017')"
   ]
  },
  {
   "cell_type": "code",
   "execution_count": 9,
   "metadata": {},
   "outputs": [],
   "source": [
    "db = client.test\n",
    "collection = db.venmo"
   ]
  },
  {
   "cell_type": "markdown",
   "metadata": {},
   "source": [
    "# MongoDB"
   ]
  },
  {
   "cell_type": "code",
   "execution_count": 19,
   "metadata": {},
   "outputs": [
    {
     "name": "stderr",
     "output_type": "stream",
     "text": [
      "/Library/Frameworks/Python.framework/Versions/3.6/lib/python3.6/site-packages/ipykernel_launcher.py:1: DeprecationWarning: count is deprecated. Use estimated_document_count or count_documents instead. Please note that $where must be replaced by $expr, $near must be replaced by $geoWithin with $center, and $nearSphere must be replaced by $geoWithin with $centerSphere\n",
      "  \"\"\"Entry point for launching an IPython kernel.\n"
     ]
    },
    {
     "data": {
      "text/plain": [
       "7076585"
      ]
     },
     "execution_count": 19,
     "metadata": {},
     "output_type": "execute_result"
    }
   ],
   "source": [
    "#7 million rows\n",
    "collection.count()"
   ]
  },
  {
   "cell_type": "code",
   "execution_count": 17,
   "metadata": {},
   "outputs": [
    {
     "data": {
      "text/plain": [
       "{'_id': ObjectId('5bb7bd386e52181f090bed0a'),\n",
       " 'mentions': {'data': [], 'count': 0},\n",
       " 'payment': {'amount': None,\n",
       "  'target': {'redeemable_target': None,\n",
       "   'merchant': None,\n",
       "   'user': {'username': 'lostguylane',\n",
       "    'friends_count': None,\n",
       "    'is_active': True,\n",
       "    'display_name': 'Eddie Meraz',\n",
       "    'friend_status': None,\n",
       "    'email': None,\n",
       "    'first_name': 'Eddie',\n",
       "    'identity': None,\n",
       "    'last_name': 'Meraz',\n",
       "    'is_blocked': False,\n",
       "    'about': ' ',\n",
       "    'profile_picture_url': 'https://venmopics.appspot.com/u/v1/s/835de0f0-7d7b-49b7-ba7c-fc5c8a58887a',\n",
       "    'id': '2423820619087872767',\n",
       "    'phone': None,\n",
       "    'trust_request': None,\n",
       "    'date_joined': datetime.datetime(2018, 2, 27, 5, 38, 54),\n",
       "    'is_group': False},\n",
       "   'phone': None,\n",
       "   'email': None,\n",
       "   'type': 'user'},\n",
       "  'note': '\\U0001f92c',\n",
       "  'actor': {'username': 'Marisol-Martinez-36',\n",
       "   'friends_count': None,\n",
       "   'is_active': True,\n",
       "   'display_name': 'Marisol Meraz',\n",
       "   'friend_status': None,\n",
       "   'email': None,\n",
       "   'first_name': 'Marisol',\n",
       "   'identity': None,\n",
       "   'last_name': 'Meraz',\n",
       "   'is_blocked': False,\n",
       "   'about': ' ',\n",
       "   'profile_picture_url': 'https://venmopics.appspot.com/u/v1/s/8f44b12f-46c4-453c-8dc7-58480e97b369',\n",
       "   'id': '2354110858788864178',\n",
       "   'phone': None,\n",
       "   'trust_request': None,\n",
       "   'date_joined': datetime.datetime(2017, 11, 23, 1, 18, 3),\n",
       "   'is_group': False},\n",
       "  'action': 'pay',\n",
       "  'status': 'settled',\n",
       "  'date_created': '2018-08-07T02:11:16',\n",
       "  'date_reminded': None,\n",
       "  'id': '2540405008067723799',\n",
       "  'date_authorized': None,\n",
       "  'merchant_split_purchase': None,\n",
       "  'audience': 'public',\n",
       "  'date_completed': '2018-08-07T02:11:16'},\n",
       " 'transfer': None,\n",
       " 'note': '\\U0001f92c',\n",
       " 'type': 'payment',\n",
       " 'authorization': None,\n",
       " 'date_updated': datetime.datetime(2018, 8, 7, 2, 11, 16),\n",
       " 'likes': {'data': [], 'count': 0},\n",
       " 'id': '2540405008562652115',\n",
       " 'comments': {'data': [], 'count': 0},\n",
       " 'date_created': datetime.datetime(2018, 8, 7, 2, 11, 16),\n",
       " 'audience': 'public',\n",
       " 'app': {'id': 1,\n",
       "  'image_url': 'https://venmo.s3.amazonaws.com/oauth/no-image-100x100.png',\n",
       "  'description': 'Venmo for iPhone',\n",
       "  'site_url': None,\n",
       "  'name': 'Venmo for iPhone'}}"
      ]
     },
     "execution_count": 17,
     "metadata": {},
     "output_type": "execute_result"
    }
   ],
   "source": [
    "collection.find_one({\"note\": \"🤬\"})"
   ]
  },
  {
   "cell_type": "code",
   "execution_count": 21,
   "metadata": {},
   "outputs": [],
   "source": [
    "collection.find_one({'comments': 'count\":0\"'})"
   ]
  },
  {
   "cell_type": "code",
   "execution_count": 53,
   "metadata": {},
   "outputs": [],
   "source": [
    "cursor = collection.find({'comments':{'$regex':'1'}},{'text':1,'created_at':1})"
   ]
  },
  {
   "cell_type": "code",
   "execution_count": 51,
   "metadata": {},
   "outputs": [
    {
     "name": "stdout",
     "output_type": "stream",
     "text": [
      "_id\n",
      "mentions\n",
      "payment\n",
      "transfer\n",
      "note\n",
      "type\n",
      "authorization\n",
      "date_updated\n",
      "likes\n",
      "id\n",
      "comments\n",
      "date_created\n",
      "audience\n",
      "app\n"
     ]
    }
   ],
   "source": [
    "testing = []\n",
    "for item in collection.find_one({\"type\": \"payment\"}):\n",
    "    print(item)"
   ]
  },
  {
   "cell_type": "code",
   "execution_count": 46,
   "metadata": {},
   "outputs": [
    {
     "data": {
      "text/plain": [
       "['_id',\n",
       " 'mentions',\n",
       " 'payment',\n",
       " 'transfer',\n",
       " 'note',\n",
       " 'type',\n",
       " 'authorization',\n",
       " 'date_updated',\n",
       " 'likes',\n",
       " 'id',\n",
       " 'comments',\n",
       " 'date_created',\n",
       " 'audience',\n",
       " 'app']"
      ]
     },
     "execution_count": 46,
     "metadata": {},
     "output_type": "execute_result"
    }
   ],
   "source": [
    "testing"
   ]
  },
  {
   "cell_type": "code",
   "execution_count": null,
   "metadata": {},
   "outputs": [],
   "source": []
  }
 ],
 "metadata": {
  "kernelspec": {
   "display_name": "Python 3",
   "language": "python",
   "name": "python3"
  },
  "language_info": {
   "codemirror_mode": {
    "name": "ipython",
    "version": 3
   },
   "file_extension": ".py",
   "mimetype": "text/x-python",
   "name": "python",
   "nbconvert_exporter": "python",
   "pygments_lexer": "ipython3",
   "version": "3.6.8"
  }
 },
 "nbformat": 4,
 "nbformat_minor": 2
}
